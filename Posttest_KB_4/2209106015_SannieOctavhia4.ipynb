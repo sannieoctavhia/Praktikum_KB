{
 "cells": [
  {
   "cell_type": "markdown",
   "id": "34b41b55-d596-4332-ad03-054da10c9ac1",
   "metadata": {},
   "source": [
    "# Nama : Sannie Octavhia\n",
    "# NIM : 2209106015\n",
    "# Kelas : A1 Informatika 2022"
   ]
  },
  {
   "cell_type": "markdown",
   "id": "af1c14bc-3cb6-43ad-9f4d-dd8b8f5feae2",
   "metadata": {},
   "source": [
    "## Mengimport semua library yang dibutuhkan"
   ]
  },
  {
   "cell_type": "code",
   "execution_count": 3,
   "id": "cf29e51e-c8df-4c83-a35f-113f80bc317e",
   "metadata": {},
   "outputs": [],
   "source": [
    "import pandas as pd\n",
    "from sklearn.model_selection import train_test_split\n",
    "from sklearn.preprocessing import MinMaxScaler\n",
    "from sklearn.preprocessing import StandardScaler\n",
    "from sklearn.impute import SimpleImputer\n",
    "from sklearn.preprocessing import OrdinalEncoder\n",
    "from sklearn.preprocessing import OneHotEncoder"
   ]
  },
  {
   "cell_type": "markdown",
   "id": "c85ebaf4-48a8-4cf0-abdc-e5c40a328920",
   "metadata": {},
   "source": [
    "## Memasukkan file csv agar dapat terbaca dan tampilkan"
   ]
  },
  {
   "cell_type": "code",
   "execution_count": 5,
   "id": "38587501-eceb-4f5a-ad07-6bd8c787158a",
   "metadata": {},
   "outputs": [
    {
     "data": {
      "text/html": [
       "<div>\n",
       "<style scoped>\n",
       "    .dataframe tbody tr th:only-of-type {\n",
       "        vertical-align: middle;\n",
       "    }\n",
       "\n",
       "    .dataframe tbody tr th {\n",
       "        vertical-align: top;\n",
       "    }\n",
       "\n",
       "    .dataframe thead th {\n",
       "        text-align: right;\n",
       "    }\n",
       "</style>\n",
       "<table border=\"1\" class=\"dataframe\">\n",
       "  <thead>\n",
       "    <tr style=\"text-align: right;\">\n",
       "      <th></th>\n",
       "      <th>firm</th>\n",
       "      <th>date_review</th>\n",
       "      <th>job_title</th>\n",
       "      <th>current</th>\n",
       "      <th>location</th>\n",
       "      <th>overall_rating</th>\n",
       "      <th>work_life_balance</th>\n",
       "      <th>culture_values</th>\n",
       "      <th>diversity_inclusion</th>\n",
       "      <th>career_opp</th>\n",
       "      <th>comp_benefits</th>\n",
       "      <th>senior_mgmt</th>\n",
       "      <th>recommend</th>\n",
       "      <th>ceo_approv</th>\n",
       "      <th>outlook</th>\n",
       "      <th>headline</th>\n",
       "      <th>pros</th>\n",
       "      <th>cons</th>\n",
       "    </tr>\n",
       "  </thead>\n",
       "  <tbody>\n",
       "    <tr>\n",
       "      <th>0</th>\n",
       "      <td>AFH-Wealth-Management</td>\n",
       "      <td>2015-04-05</td>\n",
       "      <td></td>\n",
       "      <td>Current Employee</td>\n",
       "      <td>NaN</td>\n",
       "      <td>2</td>\n",
       "      <td>4.0</td>\n",
       "      <td>3.0</td>\n",
       "      <td>NaN</td>\n",
       "      <td>2.0</td>\n",
       "      <td>3.0</td>\n",
       "      <td>3.0</td>\n",
       "      <td>x</td>\n",
       "      <td>o</td>\n",
       "      <td>r</td>\n",
       "      <td>Young colleagues, poor micro management</td>\n",
       "      <td>Very friendly and welcoming to new staff. Easy...</td>\n",
       "      <td>Poor salaries, poor training and communication.</td>\n",
       "    </tr>\n",
       "    <tr>\n",
       "      <th>1</th>\n",
       "      <td>AFH-Wealth-Management</td>\n",
       "      <td>2015-12-11</td>\n",
       "      <td>Office Administrator</td>\n",
       "      <td>Current Employee, more than 1 year</td>\n",
       "      <td>Bromsgrove, England, England</td>\n",
       "      <td>2</td>\n",
       "      <td>3.0</td>\n",
       "      <td>1.0</td>\n",
       "      <td>NaN</td>\n",
       "      <td>2.0</td>\n",
       "      <td>1.0</td>\n",
       "      <td>4.0</td>\n",
       "      <td>x</td>\n",
       "      <td>o</td>\n",
       "      <td>r</td>\n",
       "      <td>Excellent staff, poor salary</td>\n",
       "      <td>Friendly, helpful and hard-working colleagues</td>\n",
       "      <td>Poor salary which doesn't improve much with pr...</td>\n",
       "    </tr>\n",
       "    <tr>\n",
       "      <th>2</th>\n",
       "      <td>AFH-Wealth-Management</td>\n",
       "      <td>2016-01-28</td>\n",
       "      <td>Office Administrator</td>\n",
       "      <td>Current Employee, less than 1 year</td>\n",
       "      <td>Bromsgrove, England, England</td>\n",
       "      <td>1</td>\n",
       "      <td>1.0</td>\n",
       "      <td>1.0</td>\n",
       "      <td>NaN</td>\n",
       "      <td>1.0</td>\n",
       "      <td>1.0</td>\n",
       "      <td>1.0</td>\n",
       "      <td>x</td>\n",
       "      <td>o</td>\n",
       "      <td>x</td>\n",
       "      <td>Low salary, bad micromanagement</td>\n",
       "      <td>Easy to get the job even without experience in...</td>\n",
       "      <td>Very low salary, poor working conditions, very...</td>\n",
       "    </tr>\n",
       "    <tr>\n",
       "      <th>3</th>\n",
       "      <td>AFH-Wealth-Management</td>\n",
       "      <td>2016-04-16</td>\n",
       "      <td></td>\n",
       "      <td>Current Employee</td>\n",
       "      <td>NaN</td>\n",
       "      <td>5</td>\n",
       "      <td>2.0</td>\n",
       "      <td>3.0</td>\n",
       "      <td>NaN</td>\n",
       "      <td>2.0</td>\n",
       "      <td>2.0</td>\n",
       "      <td>3.0</td>\n",
       "      <td>x</td>\n",
       "      <td>o</td>\n",
       "      <td>r</td>\n",
       "      <td>Over promised under delivered</td>\n",
       "      <td>Nice staff to work with</td>\n",
       "      <td>No career progression and salary is poor</td>\n",
       "    </tr>\n",
       "    <tr>\n",
       "      <th>4</th>\n",
       "      <td>AFH-Wealth-Management</td>\n",
       "      <td>2016-04-23</td>\n",
       "      <td>Office Administrator</td>\n",
       "      <td>Current Employee, more than 1 year</td>\n",
       "      <td>Bromsgrove, England, England</td>\n",
       "      <td>1</td>\n",
       "      <td>2.0</td>\n",
       "      <td>1.0</td>\n",
       "      <td>NaN</td>\n",
       "      <td>2.0</td>\n",
       "      <td>1.0</td>\n",
       "      <td>1.0</td>\n",
       "      <td>x</td>\n",
       "      <td>o</td>\n",
       "      <td>x</td>\n",
       "      <td>client reporting admin</td>\n",
       "      <td>Easy to get the job, Nice colleagues.</td>\n",
       "      <td>Abysmal pay, around minimum wage. No actual tr...</td>\n",
       "    </tr>\n",
       "  </tbody>\n",
       "</table>\n",
       "</div>"
      ],
      "text/plain": [
       "                    firm date_review              job_title  \\\n",
       "0  AFH-Wealth-Management  2015-04-05                          \n",
       "1  AFH-Wealth-Management  2015-12-11   Office Administrator   \n",
       "2  AFH-Wealth-Management  2016-01-28   Office Administrator   \n",
       "3  AFH-Wealth-Management  2016-04-16                          \n",
       "4  AFH-Wealth-Management  2016-04-23   Office Administrator   \n",
       "\n",
       "                              current                      location  \\\n",
       "0                    Current Employee                           NaN   \n",
       "1  Current Employee, more than 1 year  Bromsgrove, England, England   \n",
       "2  Current Employee, less than 1 year  Bromsgrove, England, England   \n",
       "3                    Current Employee                           NaN   \n",
       "4  Current Employee, more than 1 year  Bromsgrove, England, England   \n",
       "\n",
       "   overall_rating  work_life_balance  culture_values  diversity_inclusion  \\\n",
       "0               2                4.0             3.0                  NaN   \n",
       "1               2                3.0             1.0                  NaN   \n",
       "2               1                1.0             1.0                  NaN   \n",
       "3               5                2.0             3.0                  NaN   \n",
       "4               1                2.0             1.0                  NaN   \n",
       "\n",
       "   career_opp  comp_benefits  senior_mgmt recommend ceo_approv outlook  \\\n",
       "0         2.0            3.0          3.0         x          o       r   \n",
       "1         2.0            1.0          4.0         x          o       r   \n",
       "2         1.0            1.0          1.0         x          o       x   \n",
       "3         2.0            2.0          3.0         x          o       r   \n",
       "4         2.0            1.0          1.0         x          o       x   \n",
       "\n",
       "                                  headline  \\\n",
       "0  Young colleagues, poor micro management   \n",
       "1             Excellent staff, poor salary   \n",
       "2          Low salary, bad micromanagement   \n",
       "3            Over promised under delivered   \n",
       "4                   client reporting admin   \n",
       "\n",
       "                                                pros  \\\n",
       "0  Very friendly and welcoming to new staff. Easy...   \n",
       "1      Friendly, helpful and hard-working colleagues   \n",
       "2  Easy to get the job even without experience in...   \n",
       "3                            Nice staff to work with   \n",
       "4              Easy to get the job, Nice colleagues.   \n",
       "\n",
       "                                                cons  \n",
       "0    Poor salaries, poor training and communication.  \n",
       "1  Poor salary which doesn't improve much with pr...  \n",
       "2  Very low salary, poor working conditions, very...  \n",
       "3           No career progression and salary is poor  \n",
       "4  Abysmal pay, around minimum wage. No actual tr...  "
      ]
     },
     "execution_count": 5,
     "metadata": {},
     "output_type": "execute_result"
    }
   ],
   "source": [
    "cani = pd.read_csv('glassdoor_reviews.csv')\n",
    "cani.head()"
   ]
  },
  {
   "cell_type": "markdown",
   "id": "c600f42e-7e30-42e2-8b05-0a5befba3088",
   "metadata": {},
   "source": [
    "# DataSplit \n",
    "## dengan perbandingan 70:30"
   ]
  },
  {
   "cell_type": "code",
   "execution_count": 6,
   "id": "2a0ca4d6-b7a8-4623-988d-2aff0527cbd6",
   "metadata": {},
   "outputs": [],
   "source": [
    "X = cani.drop(columns='work_life_balance') \n",
    "y = cani['work_life_balance'] "
   ]
  },
  {
   "cell_type": "code",
   "execution_count": 7,
   "id": "38498eac-36fd-4fee-9bea-a366e430af88",
   "metadata": {},
   "outputs": [],
   "source": [
    "X_train, X_test, y_train, y_test, = train_test_split(X, y, test_size=0.3, random_state=28)"
   ]
  },
  {
   "cell_type": "code",
   "execution_count": 8,
   "id": "e70ae4eb-bef7-46c1-bb9d-eef694f545ff",
   "metadata": {},
   "outputs": [
    {
     "name": "stdout",
     "output_type": "stream",
     "text": [
      "(586996, 17)\n",
      "(251570, 17)\n",
      "(586996,)\n",
      "(251570,)\n"
     ]
    }
   ],
   "source": [
    "print(X_train.shape)\n",
    "print(X_test.shape)\n",
    "print(y_train.shape)\n",
    "print(y_test.shape)"
   ]
  },
  {
   "cell_type": "markdown",
   "id": "3e32c6bc-c262-48c1-ad78-366170ccd598",
   "metadata": {},
   "source": [
    "### Disini kita melakukan DataSplit yang dimana kita menentukan X dan Y sebagai training_set dan testing_set\n",
    "\n",
    "### Kita menggunakan testing_size 0,3 yang melambangkan 30% dari total data 100% sisanya menjadi 70%"
   ]
  },
  {
   "cell_type": "markdown",
   "id": "111c8431-1a07-42f4-95b6-31341f9792d0",
   "metadata": {},
   "source": [
    "# Data Transformation\n",
    "# Standarisasi"
   ]
  },
  {
   "cell_type": "markdown",
   "id": "59493049-de71-4590-b4c7-c7b11391d1ec",
   "metadata": {},
   "source": [
    "### Memasukkan file csv untuk keperluan dataset"
   ]
  },
  {
   "cell_type": "code",
   "execution_count": 28,
   "id": "def05f65-afa9-4c3f-a2cc-722a36946285",
   "metadata": {},
   "outputs": [],
   "source": [
    "cani1= pd.read_csv ('glassdoor_reviews.csv')"
   ]
  },
  {
   "cell_type": "markdown",
   "id": "1d5f0b32-8a50-4a63-9d3f-4b318bdc7409",
   "metadata": {},
   "source": [
    "### Melakukan Standarisasi menggunakan data float "
   ]
  },
  {
   "cell_type": "code",
   "execution_count": 29,
   "id": "12e469f3-5cf7-460e-8eee-0f1f69adf30f",
   "metadata": {},
   "outputs": [],
   "source": [
    "slr = StandardScaler()\n",
    "cani1[['overall_rating', 'culture_values', 'career_opp', 'comp_benefits']] = slr.fit_transform(cani1[['overall_rating', 'culture_values', 'career_opp', 'comp_benefits']])"
   ]
  },
  {
   "cell_type": "markdown",
   "id": "cf61c4df-c69c-41e2-9397-45bd031dd3be",
   "metadata": {},
   "source": [
    "# Normalisasi"
   ]
  },
  {
   "cell_type": "markdown",
   "id": "5fcbba73-8297-47bd-864f-9a74a25d1f69",
   "metadata": {},
   "source": [
    "### Melakukan Normalisasi data dengan menggunakan data float dan integer dan menampilkan hasil min dan max nya"
   ]
  },
  {
   "cell_type": "code",
   "execution_count": 30,
   "id": "56bdfd22-5775-4146-b8bc-ca6d851f4d81",
   "metadata": {},
   "outputs": [],
   "source": [
    "mx = MinMaxScaler()\n",
    "cani1[['overall_rating', 'culture_values', 'career_opp', 'comp_benefits']] = slr.fit_transform(cani1[['overall_rating', 'culture_values', 'career_opp', 'comp_benefits']])"
   ]
  },
  {
   "cell_type": "code",
   "execution_count": 31,
   "id": "79ddda49-8784-4148-addd-48572383af0a",
   "metadata": {},
   "outputs": [
    {
     "data": {
      "text/plain": [
       "firm                    object\n",
       "date_review             object\n",
       "job_title               object\n",
       "current                 object\n",
       "location                object\n",
       "overall_rating           int64\n",
       "work_life_balance      float64\n",
       "culture_values         float64\n",
       "diversity_inclusion    float64\n",
       "career_opp             float64\n",
       "comp_benefits          float64\n",
       "senior_mgmt            float64\n",
       "recommend               object\n",
       "ceo_approv              object\n",
       "outlook                 object\n",
       "headline                object\n",
       "pros                    object\n",
       "cons                    object\n",
       "dtype: object"
      ]
     },
     "execution_count": 31,
     "metadata": {},
     "output_type": "execute_result"
    }
   ],
   "source": [
    "cani.dtypes"
   ]
  },
  {
   "cell_type": "code",
   "execution_count": 32,
   "id": "57a36513-90ae-4ea9-a0c3-75c136b73c9b",
   "metadata": {},
   "outputs": [
    {
     "data": {
      "text/plain": [
       "5.0"
      ]
     },
     "execution_count": 32,
     "metadata": {},
     "output_type": "execute_result"
    }
   ],
   "source": [
    "cani1['work_life_balance'].max()"
   ]
  },
  {
   "cell_type": "code",
   "execution_count": 33,
   "id": "632bf566-b9b4-4a22-98b7-01ecb54c8d63",
   "metadata": {},
   "outputs": [
    {
     "data": {
      "text/plain": [
       "1.0"
      ]
     },
     "execution_count": 33,
     "metadata": {},
     "output_type": "execute_result"
    }
   ],
   "source": [
    "cani1['work_life_balance'].min()"
   ]
  },
  {
   "cell_type": "markdown",
   "id": "2f75a2a4-e853-4056-9b1a-334c3a7192aa",
   "metadata": {},
   "source": [
    "# Data Cleaning\n",
    "### Pada data duplikat"
   ]
  },
  {
   "cell_type": "code",
   "execution_count": 36,
   "id": "1804b9a7-dbd3-467f-9449-1622ca9f1fbc",
   "metadata": {},
   "outputs": [
    {
     "name": "stdout",
     "output_type": "stream",
     "text": [
      "Nilai Duplikat Data : \n"
     ]
    },
    {
     "data": {
      "text/plain": [
       "33515"
      ]
     },
     "execution_count": 36,
     "metadata": {},
     "output_type": "execute_result"
    }
   ],
   "source": [
    "# Mengecek adanya duplikat data atau tidak\n",
    "print(\"Nilai Duplikat Data : \")\n",
    "cani.duplicated().sum()"
   ]
  },
  {
   "cell_type": "markdown",
   "id": "15e4ed21-709f-4b74-89d0-ac523a9daeaa",
   "metadata": {},
   "source": [
    "### Menggabungkan data asli dan data copy dan tampilkan data duplikat dan menampilkan hasil data duplikat adalah 0"
   ]
  },
  {
   "cell_type": "code",
   "execution_count": 37,
   "id": "693483a2-3aba-4d11-949c-46b0dc4a0a9e",
   "metadata": {},
   "outputs": [],
   "source": [
    "cani.drop_duplicates(inplace=True)"
   ]
  },
  {
   "cell_type": "code",
   "execution_count": 38,
   "id": "86eb4c37-ebe9-4d39-aaa4-387a5fd305e8",
   "metadata": {},
   "outputs": [
    {
     "name": "stdout",
     "output_type": "stream",
     "text": [
      "Nilai Duplikat Data : \n"
     ]
    },
    {
     "data": {
      "text/plain": [
       "0"
      ]
     },
     "execution_count": 38,
     "metadata": {},
     "output_type": "execute_result"
    }
   ],
   "source": [
    "print(\"Nilai Duplikat Data : \")\n",
    "cani.duplicated().sum()"
   ]
  },
  {
   "cell_type": "markdown",
   "id": "2ed915a7-e5ef-4e2c-87ae-87bb6775f35a",
   "metadata": {},
   "source": [
    "## Data Cleaning nilai null\n",
    "### Menampilkan data yang memiliki nilai null dalam kolom agar kita dapat mengetahui data yang akan kita hapus"
   ]
  },
  {
   "cell_type": "code",
   "execution_count": 39,
   "id": "90e06019-fe58-408f-b5f2-14ab26e21114",
   "metadata": {},
   "outputs": [
    {
     "data": {
      "text/plain": [
       "firm                        0\n",
       "date_review                 0\n",
       "job_title                   0\n",
       "current                     0\n",
       "location               285095\n",
       "overall_rating              0\n",
       "work_life_balance      144060\n",
       "culture_values         183364\n",
       "diversity_inclusion    674160\n",
       "career_opp             141726\n",
       "comp_benefits          144242\n",
       "senior_mgmt            149804\n",
       "recommend                   0\n",
       "ceo_approv                  0\n",
       "outlook                     0\n",
       "headline                 2451\n",
       "pros                        2\n",
       "cons                       13\n",
       "dtype: int64"
      ]
     },
     "execution_count": 39,
     "metadata": {},
     "output_type": "execute_result"
    }
   ],
   "source": [
    "cani.isnull().sum()"
   ]
  },
  {
   "cell_type": "markdown",
   "id": "56688fb7-1e68-4f53-8797-19bbed1e8d28",
   "metadata": {},
   "source": [
    "### Menggunakan modus untuk mengahapus data dengan memanggil label/atribut yang memiliki nilai null setelah itu tampilkan data lagi untuk melihat data null"
   ]
  },
  {
   "cell_type": "code",
   "execution_count": 42,
   "id": "fc735a8a-9417-4f80-8f5d-387369377dd0",
   "metadata": {},
   "outputs": [],
   "source": [
    "cani_modus = SimpleImputer(strategy='most_frequent')\n",
    "cani[['location', 'work_life_balance', 'culture_values', 'diversity_inclusion', 'career_opp', 'comp_benefits', 'senior_mgmt', 'headline', 'pros', 'cons']] = cani_modus.fit_transform(cani[['location', 'work_life_balance', 'culture_values', 'diversity_inclusion', 'career_opp', 'comp_benefits', 'senior_mgmt', 'headline', 'pros', 'cons']])"
   ]
  },
  {
   "cell_type": "code",
   "execution_count": 43,
   "id": "5bace26a-3c0f-4121-886a-150d3d5865da",
   "metadata": {},
   "outputs": [
    {
     "data": {
      "text/plain": [
       "firm                   0\n",
       "date_review            0\n",
       "job_title              0\n",
       "current                0\n",
       "location               0\n",
       "overall_rating         0\n",
       "work_life_balance      0\n",
       "culture_values         0\n",
       "diversity_inclusion    0\n",
       "career_opp             0\n",
       "comp_benefits          0\n",
       "senior_mgmt            0\n",
       "recommend              0\n",
       "ceo_approv             0\n",
       "outlook                0\n",
       "headline               0\n",
       "pros                   0\n",
       "cons                   0\n",
       "dtype: int64"
      ]
     },
     "execution_count": 43,
     "metadata": {},
     "output_type": "execute_result"
    }
   ],
   "source": [
    "cani.isnull().sum()"
   ]
  },
  {
   "cell_type": "markdown",
   "id": "324ac8eb-f6d6-4ff1-b607-d08c72da55f8",
   "metadata": {},
   "source": [
    "## Mengganti salah satu tipe data attribute angka \n",
    "### Mengganti tipe data work_life_balance dari float menjadi object"
   ]
  },
  {
   "cell_type": "code",
   "execution_count": 44,
   "id": "22ab3cd8-f692-4c4b-84dd-c5b927c4940a",
   "metadata": {},
   "outputs": [],
   "source": [
    "cani1['work_life_balance'] = cani1['work_life_balance'].astype(object)"
   ]
  },
  {
   "cell_type": "code",
   "execution_count": 45,
   "id": "93002428-78de-4690-ae80-ceb846eca51c",
   "metadata": {},
   "outputs": [
    {
     "data": {
      "text/plain": [
       "firm                   object\n",
       "date_review            object\n",
       "job_title              object\n",
       "current                object\n",
       "location               object\n",
       "overall_rating          int64\n",
       "work_life_balance      object\n",
       "culture_values         object\n",
       "diversity_inclusion    object\n",
       "career_opp             object\n",
       "comp_benefits          object\n",
       "senior_mgmt            object\n",
       "recommend              object\n",
       "ceo_approv             object\n",
       "outlook                object\n",
       "headline               object\n",
       "pros                   object\n",
       "cons                   object\n",
       "dtype: object"
      ]
     },
     "execution_count": 45,
     "metadata": {},
     "output_type": "execute_result"
    }
   ],
   "source": [
    "cani.dtypes"
   ]
  },
  {
   "cell_type": "markdown",
   "id": "2b792084-ab7b-4b25-a36f-a68a60430fd9",
   "metadata": {},
   "source": [
    "# One Hot Encoding"
   ]
  },
  {
   "cell_type": "markdown",
   "id": "0a1cff30-1390-46d0-9be5-b1d542cae206",
   "metadata": {},
   "source": [
    "### Memasukkan kembali file csv agar dapat membaca dataset"
   ]
  },
  {
   "cell_type": "code",
   "execution_count": 46,
   "id": "6897ae6b-014d-4ce0-bbdf-49e04e01e585",
   "metadata": {},
   "outputs": [],
   "source": [
    "cani2= pd.read_csv ('glassdoor_reviews.csv')"
   ]
  },
  {
   "cell_type": "markdown",
   "id": "d0617a2c-39a5-4d81-a433-f0c2d4e58581",
   "metadata": {},
   "source": [
    "### Menentukan tabel yang akan digunakan sebagai data One Hot Encoding dan tampilkan kolomnya"
   ]
  },
  {
   "cell_type": "code",
   "execution_count": 63,
   "id": "ad8a4c38-6d1b-4a37-9411-03663a1303b9",
   "metadata": {},
   "outputs": [
    {
     "data": {
      "text/html": [
       "<div>\n",
       "<style scoped>\n",
       "    .dataframe tbody tr th:only-of-type {\n",
       "        vertical-align: middle;\n",
       "    }\n",
       "\n",
       "    .dataframe tbody tr th {\n",
       "        vertical-align: top;\n",
       "    }\n",
       "\n",
       "    .dataframe thead th {\n",
       "        text-align: right;\n",
       "    }\n",
       "</style>\n",
       "<table border=\"1\" class=\"dataframe\">\n",
       "  <thead>\n",
       "    <tr style=\"text-align: right;\">\n",
       "      <th></th>\n",
       "      <th>job_title</th>\n",
       "      <th>overall_rating</th>\n",
       "      <th>recommend</th>\n",
       "      <th>outlook</th>\n",
       "    </tr>\n",
       "  </thead>\n",
       "  <tbody>\n",
       "    <tr>\n",
       "      <th>0</th>\n",
       "      <td></td>\n",
       "      <td>2</td>\n",
       "      <td>x</td>\n",
       "      <td>r</td>\n",
       "    </tr>\n",
       "    <tr>\n",
       "      <th>1</th>\n",
       "      <td>Office Administrator</td>\n",
       "      <td>2</td>\n",
       "      <td>x</td>\n",
       "      <td>r</td>\n",
       "    </tr>\n",
       "    <tr>\n",
       "      <th>2</th>\n",
       "      <td>Office Administrator</td>\n",
       "      <td>1</td>\n",
       "      <td>x</td>\n",
       "      <td>x</td>\n",
       "    </tr>\n",
       "    <tr>\n",
       "      <th>3</th>\n",
       "      <td></td>\n",
       "      <td>5</td>\n",
       "      <td>x</td>\n",
       "      <td>r</td>\n",
       "    </tr>\n",
       "    <tr>\n",
       "      <th>4</th>\n",
       "      <td>Office Administrator</td>\n",
       "      <td>1</td>\n",
       "      <td>x</td>\n",
       "      <td>x</td>\n",
       "    </tr>\n",
       "    <tr>\n",
       "      <th>...</th>\n",
       "      <td>...</td>\n",
       "      <td>...</td>\n",
       "      <td>...</td>\n",
       "      <td>...</td>\n",
       "    </tr>\n",
       "    <tr>\n",
       "      <th>838561</th>\n",
       "      <td>Marketing Manager</td>\n",
       "      <td>5</td>\n",
       "      <td>v</td>\n",
       "      <td>v</td>\n",
       "    </tr>\n",
       "    <tr>\n",
       "      <th>838562</th>\n",
       "      <td>Sales Associate</td>\n",
       "      <td>3</td>\n",
       "      <td>o</td>\n",
       "      <td>o</td>\n",
       "    </tr>\n",
       "    <tr>\n",
       "      <th>838563</th>\n",
       "      <td>Strategist</td>\n",
       "      <td>4</td>\n",
       "      <td>v</td>\n",
       "      <td>o</td>\n",
       "    </tr>\n",
       "    <tr>\n",
       "      <th>838564</th>\n",
       "      <td>Customer Service Representative</td>\n",
       "      <td>5</td>\n",
       "      <td>o</td>\n",
       "      <td>o</td>\n",
       "    </tr>\n",
       "    <tr>\n",
       "      <th>838565</th>\n",
       "      <td>Human Resources Specialist</td>\n",
       "      <td>5</td>\n",
       "      <td>v</td>\n",
       "      <td>o</td>\n",
       "    </tr>\n",
       "  </tbody>\n",
       "</table>\n",
       "<p>805051 rows × 4 columns</p>\n",
       "</div>"
      ],
      "text/plain": [
       "                               job_title  overall_rating recommend outlook\n",
       "0                                                      2         x       r\n",
       "1                   Office Administrator               2         x       r\n",
       "2                   Office Administrator               1         x       x\n",
       "3                                                      5         x       r\n",
       "4                   Office Administrator               1         x       x\n",
       "...                                  ...             ...       ...     ...\n",
       "838561                 Marketing Manager               5         v       v\n",
       "838562                   Sales Associate               3         o       o\n",
       "838563                        Strategist               4         v       o\n",
       "838564   Customer Service Representative               5         o       o\n",
       "838565        Human Resources Specialist               5         v       o\n",
       "\n",
       "[805051 rows x 4 columns]"
      ]
     },
     "execution_count": 63,
     "metadata": {},
     "output_type": "execute_result"
    }
   ],
   "source": [
    "cani[['job_title', 'overall_rating', 'recommend', 'outlook']]"
   ]
  },
  {
   "cell_type": "code",
   "execution_count": 65,
   "id": "56ba480b-2cbc-4b92-904e-b35fb8e32d47",
   "metadata": {},
   "outputs": [],
   "source": [
    "hot_cani = OneHotEncoder(sparse_output=False)\n",
    "encoded_cani = hot_cani.fit_transform(cani2[['recommend', 'outlook']])"
   ]
  },
  {
   "cell_type": "code",
   "execution_count": 68,
   "id": "5d85be6b-cd84-4f77-90f8-2eb5c23651af",
   "metadata": {},
   "outputs": [
    {
     "data": {
      "text/html": [
       "<div>\n",
       "<style scoped>\n",
       "    .dataframe tbody tr th:only-of-type {\n",
       "        vertical-align: middle;\n",
       "    }\n",
       "\n",
       "    .dataframe tbody tr th {\n",
       "        vertical-align: top;\n",
       "    }\n",
       "\n",
       "    .dataframe thead th {\n",
       "        text-align: right;\n",
       "    }\n",
       "</style>\n",
       "<table border=\"1\" class=\"dataframe\">\n",
       "  <thead>\n",
       "    <tr style=\"text-align: right;\">\n",
       "      <th></th>\n",
       "      <th>x</th>\n",
       "      <th>o</th>\n",
       "      <th>v</th>\n",
       "      <th>r</th>\n",
       "      <th>x</th>\n",
       "      <th>v</th>\n",
       "      <th>o</th>\n",
       "    </tr>\n",
       "  </thead>\n",
       "  <tbody>\n",
       "    <tr>\n",
       "      <th>0</th>\n",
       "      <td>0.0</td>\n",
       "      <td>0.0</td>\n",
       "      <td>1.0</td>\n",
       "      <td>0.0</td>\n",
       "      <td>1.0</td>\n",
       "      <td>0.0</td>\n",
       "      <td>0.0</td>\n",
       "    </tr>\n",
       "    <tr>\n",
       "      <th>1</th>\n",
       "      <td>0.0</td>\n",
       "      <td>0.0</td>\n",
       "      <td>1.0</td>\n",
       "      <td>0.0</td>\n",
       "      <td>1.0</td>\n",
       "      <td>0.0</td>\n",
       "      <td>0.0</td>\n",
       "    </tr>\n",
       "    <tr>\n",
       "      <th>2</th>\n",
       "      <td>0.0</td>\n",
       "      <td>0.0</td>\n",
       "      <td>1.0</td>\n",
       "      <td>0.0</td>\n",
       "      <td>0.0</td>\n",
       "      <td>0.0</td>\n",
       "      <td>1.0</td>\n",
       "    </tr>\n",
       "    <tr>\n",
       "      <th>3</th>\n",
       "      <td>0.0</td>\n",
       "      <td>0.0</td>\n",
       "      <td>1.0</td>\n",
       "      <td>0.0</td>\n",
       "      <td>1.0</td>\n",
       "      <td>0.0</td>\n",
       "      <td>0.0</td>\n",
       "    </tr>\n",
       "    <tr>\n",
       "      <th>4</th>\n",
       "      <td>0.0</td>\n",
       "      <td>0.0</td>\n",
       "      <td>1.0</td>\n",
       "      <td>0.0</td>\n",
       "      <td>0.0</td>\n",
       "      <td>0.0</td>\n",
       "      <td>1.0</td>\n",
       "    </tr>\n",
       "    <tr>\n",
       "      <th>...</th>\n",
       "      <td>...</td>\n",
       "      <td>...</td>\n",
       "      <td>...</td>\n",
       "      <td>...</td>\n",
       "      <td>...</td>\n",
       "      <td>...</td>\n",
       "      <td>...</td>\n",
       "    </tr>\n",
       "    <tr>\n",
       "      <th>838561</th>\n",
       "      <td>0.0</td>\n",
       "      <td>1.0</td>\n",
       "      <td>0.0</td>\n",
       "      <td>0.0</td>\n",
       "      <td>0.0</td>\n",
       "      <td>1.0</td>\n",
       "      <td>0.0</td>\n",
       "    </tr>\n",
       "    <tr>\n",
       "      <th>838562</th>\n",
       "      <td>1.0</td>\n",
       "      <td>0.0</td>\n",
       "      <td>0.0</td>\n",
       "      <td>1.0</td>\n",
       "      <td>0.0</td>\n",
       "      <td>0.0</td>\n",
       "      <td>0.0</td>\n",
       "    </tr>\n",
       "    <tr>\n",
       "      <th>838563</th>\n",
       "      <td>0.0</td>\n",
       "      <td>1.0</td>\n",
       "      <td>0.0</td>\n",
       "      <td>1.0</td>\n",
       "      <td>0.0</td>\n",
       "      <td>0.0</td>\n",
       "      <td>0.0</td>\n",
       "    </tr>\n",
       "    <tr>\n",
       "      <th>838564</th>\n",
       "      <td>1.0</td>\n",
       "      <td>0.0</td>\n",
       "      <td>0.0</td>\n",
       "      <td>1.0</td>\n",
       "      <td>0.0</td>\n",
       "      <td>0.0</td>\n",
       "      <td>0.0</td>\n",
       "    </tr>\n",
       "    <tr>\n",
       "      <th>838565</th>\n",
       "      <td>0.0</td>\n",
       "      <td>1.0</td>\n",
       "      <td>0.0</td>\n",
       "      <td>1.0</td>\n",
       "      <td>0.0</td>\n",
       "      <td>0.0</td>\n",
       "      <td>0.0</td>\n",
       "    </tr>\n",
       "  </tbody>\n",
       "</table>\n",
       "<p>838566 rows × 7 columns</p>\n",
       "</div>"
      ],
      "text/plain": [
       "          x    o    v    r    x    v    o\n",
       "0       0.0  0.0  1.0  0.0  1.0  0.0  0.0\n",
       "1       0.0  0.0  1.0  0.0  1.0  0.0  0.0\n",
       "2       0.0  0.0  1.0  0.0  0.0  0.0  1.0\n",
       "3       0.0  0.0  1.0  0.0  1.0  0.0  0.0\n",
       "4       0.0  0.0  1.0  0.0  0.0  0.0  1.0\n",
       "...     ...  ...  ...  ...  ...  ...  ...\n",
       "838561  0.0  1.0  0.0  0.0  0.0  1.0  0.0\n",
       "838562  1.0  0.0  0.0  1.0  0.0  0.0  0.0\n",
       "838563  0.0  1.0  0.0  1.0  0.0  0.0  0.0\n",
       "838564  1.0  0.0  0.0  1.0  0.0  0.0  0.0\n",
       "838565  0.0  1.0  0.0  1.0  0.0  0.0  0.0\n",
       "\n",
       "[838566 rows x 7 columns]"
      ]
     },
     "execution_count": 68,
     "metadata": {},
     "output_type": "execute_result"
    }
   ],
   "source": [
    "encoded = pd.DataFrame(encoded_cani, \n",
    "                       columns=['x', 'o', 'v', 'r', 'x', 'v', 'o'])\n",
    "encoded"
   ]
  },
  {
   "cell_type": "markdown",
   "id": "17bbd261-169b-4632-afb2-142ce9226dee",
   "metadata": {},
   "source": [
    "# Menggabungkan dataset asli dengan data hasil One Hot Encoding \n",
    "### Dan menggunakan get_dummies dari Pandas untuk menerapkan One Hot Encoding lalu tampilkan data"
   ]
  },
  {
   "cell_type": "code",
   "execution_count": 69,
   "id": "1cc35986-a01b-4477-a548-ed4a34fbbdeb",
   "metadata": {},
   "outputs": [
    {
     "data": {
      "text/html": [
       "<div>\n",
       "<style scoped>\n",
       "    .dataframe tbody tr th:only-of-type {\n",
       "        vertical-align: middle;\n",
       "    }\n",
       "\n",
       "    .dataframe tbody tr th {\n",
       "        vertical-align: top;\n",
       "    }\n",
       "\n",
       "    .dataframe thead th {\n",
       "        text-align: right;\n",
       "    }\n",
       "</style>\n",
       "<table border=\"1\" class=\"dataframe\">\n",
       "  <thead>\n",
       "    <tr style=\"text-align: right;\">\n",
       "      <th></th>\n",
       "      <th>firm</th>\n",
       "      <th>date_review</th>\n",
       "      <th>job_title</th>\n",
       "      <th>current</th>\n",
       "      <th>location</th>\n",
       "      <th>overall_rating</th>\n",
       "      <th>work_life_balance</th>\n",
       "      <th>culture_values</th>\n",
       "      <th>diversity_inclusion</th>\n",
       "      <th>career_opp</th>\n",
       "      <th>...</th>\n",
       "      <th>headline</th>\n",
       "      <th>pros</th>\n",
       "      <th>cons</th>\n",
       "      <th>x</th>\n",
       "      <th>o</th>\n",
       "      <th>v</th>\n",
       "      <th>r</th>\n",
       "      <th>x</th>\n",
       "      <th>v</th>\n",
       "      <th>o</th>\n",
       "    </tr>\n",
       "  </thead>\n",
       "  <tbody>\n",
       "    <tr>\n",
       "      <th>0</th>\n",
       "      <td>AFH-Wealth-Management</td>\n",
       "      <td>2015-04-05</td>\n",
       "      <td></td>\n",
       "      <td>Current Employee</td>\n",
       "      <td>NaN</td>\n",
       "      <td>2</td>\n",
       "      <td>4.0</td>\n",
       "      <td>3.0</td>\n",
       "      <td>NaN</td>\n",
       "      <td>2.0</td>\n",
       "      <td>...</td>\n",
       "      <td>Young colleagues, poor micro management</td>\n",
       "      <td>Very friendly and welcoming to new staff. Easy...</td>\n",
       "      <td>Poor salaries, poor training and communication.</td>\n",
       "      <td>0.0</td>\n",
       "      <td>0.0</td>\n",
       "      <td>1.0</td>\n",
       "      <td>0.0</td>\n",
       "      <td>1.0</td>\n",
       "      <td>0.0</td>\n",
       "      <td>0.0</td>\n",
       "    </tr>\n",
       "    <tr>\n",
       "      <th>1</th>\n",
       "      <td>AFH-Wealth-Management</td>\n",
       "      <td>2015-12-11</td>\n",
       "      <td>Office Administrator</td>\n",
       "      <td>Current Employee, more than 1 year</td>\n",
       "      <td>Bromsgrove, England, England</td>\n",
       "      <td>2</td>\n",
       "      <td>3.0</td>\n",
       "      <td>1.0</td>\n",
       "      <td>NaN</td>\n",
       "      <td>2.0</td>\n",
       "      <td>...</td>\n",
       "      <td>Excellent staff, poor salary</td>\n",
       "      <td>Friendly, helpful and hard-working colleagues</td>\n",
       "      <td>Poor salary which doesn't improve much with pr...</td>\n",
       "      <td>0.0</td>\n",
       "      <td>0.0</td>\n",
       "      <td>1.0</td>\n",
       "      <td>0.0</td>\n",
       "      <td>1.0</td>\n",
       "      <td>0.0</td>\n",
       "      <td>0.0</td>\n",
       "    </tr>\n",
       "    <tr>\n",
       "      <th>2</th>\n",
       "      <td>AFH-Wealth-Management</td>\n",
       "      <td>2016-01-28</td>\n",
       "      <td>Office Administrator</td>\n",
       "      <td>Current Employee, less than 1 year</td>\n",
       "      <td>Bromsgrove, England, England</td>\n",
       "      <td>1</td>\n",
       "      <td>1.0</td>\n",
       "      <td>1.0</td>\n",
       "      <td>NaN</td>\n",
       "      <td>1.0</td>\n",
       "      <td>...</td>\n",
       "      <td>Low salary, bad micromanagement</td>\n",
       "      <td>Easy to get the job even without experience in...</td>\n",
       "      <td>Very low salary, poor working conditions, very...</td>\n",
       "      <td>0.0</td>\n",
       "      <td>0.0</td>\n",
       "      <td>1.0</td>\n",
       "      <td>0.0</td>\n",
       "      <td>0.0</td>\n",
       "      <td>0.0</td>\n",
       "      <td>1.0</td>\n",
       "    </tr>\n",
       "    <tr>\n",
       "      <th>3</th>\n",
       "      <td>AFH-Wealth-Management</td>\n",
       "      <td>2016-04-16</td>\n",
       "      <td></td>\n",
       "      <td>Current Employee</td>\n",
       "      <td>NaN</td>\n",
       "      <td>5</td>\n",
       "      <td>2.0</td>\n",
       "      <td>3.0</td>\n",
       "      <td>NaN</td>\n",
       "      <td>2.0</td>\n",
       "      <td>...</td>\n",
       "      <td>Over promised under delivered</td>\n",
       "      <td>Nice staff to work with</td>\n",
       "      <td>No career progression and salary is poor</td>\n",
       "      <td>0.0</td>\n",
       "      <td>0.0</td>\n",
       "      <td>1.0</td>\n",
       "      <td>0.0</td>\n",
       "      <td>1.0</td>\n",
       "      <td>0.0</td>\n",
       "      <td>0.0</td>\n",
       "    </tr>\n",
       "    <tr>\n",
       "      <th>4</th>\n",
       "      <td>AFH-Wealth-Management</td>\n",
       "      <td>2016-04-23</td>\n",
       "      <td>Office Administrator</td>\n",
       "      <td>Current Employee, more than 1 year</td>\n",
       "      <td>Bromsgrove, England, England</td>\n",
       "      <td>1</td>\n",
       "      <td>2.0</td>\n",
       "      <td>1.0</td>\n",
       "      <td>NaN</td>\n",
       "      <td>2.0</td>\n",
       "      <td>...</td>\n",
       "      <td>client reporting admin</td>\n",
       "      <td>Easy to get the job, Nice colleagues.</td>\n",
       "      <td>Abysmal pay, around minimum wage. No actual tr...</td>\n",
       "      <td>0.0</td>\n",
       "      <td>0.0</td>\n",
       "      <td>1.0</td>\n",
       "      <td>0.0</td>\n",
       "      <td>0.0</td>\n",
       "      <td>0.0</td>\n",
       "      <td>1.0</td>\n",
       "    </tr>\n",
       "  </tbody>\n",
       "</table>\n",
       "<p>5 rows × 25 columns</p>\n",
       "</div>"
      ],
      "text/plain": [
       "                    firm date_review              job_title  \\\n",
       "0  AFH-Wealth-Management  2015-04-05                          \n",
       "1  AFH-Wealth-Management  2015-12-11   Office Administrator   \n",
       "2  AFH-Wealth-Management  2016-01-28   Office Administrator   \n",
       "3  AFH-Wealth-Management  2016-04-16                          \n",
       "4  AFH-Wealth-Management  2016-04-23   Office Administrator   \n",
       "\n",
       "                              current                      location  \\\n",
       "0                    Current Employee                           NaN   \n",
       "1  Current Employee, more than 1 year  Bromsgrove, England, England   \n",
       "2  Current Employee, less than 1 year  Bromsgrove, England, England   \n",
       "3                    Current Employee                           NaN   \n",
       "4  Current Employee, more than 1 year  Bromsgrove, England, England   \n",
       "\n",
       "   overall_rating  work_life_balance  culture_values  diversity_inclusion  \\\n",
       "0               2                4.0             3.0                  NaN   \n",
       "1               2                3.0             1.0                  NaN   \n",
       "2               1                1.0             1.0                  NaN   \n",
       "3               5                2.0             3.0                  NaN   \n",
       "4               1                2.0             1.0                  NaN   \n",
       "\n",
       "   career_opp  ...                                 headline  \\\n",
       "0         2.0  ...  Young colleagues, poor micro management   \n",
       "1         2.0  ...             Excellent staff, poor salary   \n",
       "2         1.0  ...          Low salary, bad micromanagement   \n",
       "3         2.0  ...            Over promised under delivered   \n",
       "4         2.0  ...                   client reporting admin   \n",
       "\n",
       "                                                pros  \\\n",
       "0  Very friendly and welcoming to new staff. Easy...   \n",
       "1      Friendly, helpful and hard-working colleagues   \n",
       "2  Easy to get the job even without experience in...   \n",
       "3                            Nice staff to work with   \n",
       "4              Easy to get the job, Nice colleagues.   \n",
       "\n",
       "                                                cons    x    o    v    r    x  \\\n",
       "0    Poor salaries, poor training and communication.  0.0  0.0  1.0  0.0  1.0   \n",
       "1  Poor salary which doesn't improve much with pr...  0.0  0.0  1.0  0.0  1.0   \n",
       "2  Very low salary, poor working conditions, very...  0.0  0.0  1.0  0.0  0.0   \n",
       "3           No career progression and salary is poor  0.0  0.0  1.0  0.0  1.0   \n",
       "4  Abysmal pay, around minimum wage. No actual tr...  0.0  0.0  1.0  0.0  0.0   \n",
       "\n",
       "     v    o  \n",
       "0  0.0  0.0  \n",
       "1  0.0  0.0  \n",
       "2  0.0  1.0  \n",
       "3  0.0  0.0  \n",
       "4  0.0  1.0  \n",
       "\n",
       "[5 rows x 25 columns]"
      ]
     },
     "execution_count": 69,
     "metadata": {},
     "output_type": "execute_result"
    }
   ],
   "source": [
    "cani2 = pd.concat([cani2, encoded], axis=1)\n",
    "cani2.head()"
   ]
  },
  {
   "cell_type": "code",
   "execution_count": 70,
   "id": "c304a36b-1e66-4e5f-9ba9-69c6dbb125fb",
   "metadata": {},
   "outputs": [],
   "source": [
    "cani_dummies = pd.get_dummies(cani2[['recommend', 'outlook']]).replace(False, 0).replace(True, 1)"
   ]
  },
  {
   "cell_type": "code",
   "execution_count": 71,
   "id": "672fd176-6f9c-4b4d-9300-ab1363df6699",
   "metadata": {},
   "outputs": [],
   "source": [
    "cani2 = pd.concat([cani2, cani_dummies], axis=1)"
   ]
  },
  {
   "cell_type": "code",
   "execution_count": 73,
   "id": "87cfc6ec-c48f-4262-a21a-143e14a5e9dd",
   "metadata": {},
   "outputs": [
    {
     "data": {
      "text/html": [
       "<div>\n",
       "<style scoped>\n",
       "    .dataframe tbody tr th:only-of-type {\n",
       "        vertical-align: middle;\n",
       "    }\n",
       "\n",
       "    .dataframe tbody tr th {\n",
       "        vertical-align: top;\n",
       "    }\n",
       "\n",
       "    .dataframe thead th {\n",
       "        text-align: right;\n",
       "    }\n",
       "</style>\n",
       "<table border=\"1\" class=\"dataframe\">\n",
       "  <thead>\n",
       "    <tr style=\"text-align: right;\">\n",
       "      <th></th>\n",
       "      <th>firm</th>\n",
       "      <th>date_review</th>\n",
       "      <th>job_title</th>\n",
       "      <th>current</th>\n",
       "      <th>location</th>\n",
       "      <th>overall_rating</th>\n",
       "      <th>work_life_balance</th>\n",
       "      <th>culture_values</th>\n",
       "      <th>diversity_inclusion</th>\n",
       "      <th>career_opp</th>\n",
       "      <th>...</th>\n",
       "      <th>x</th>\n",
       "      <th>v</th>\n",
       "      <th>o</th>\n",
       "      <th>recommend_o</th>\n",
       "      <th>recommend_v</th>\n",
       "      <th>recommend_x</th>\n",
       "      <th>outlook_o</th>\n",
       "      <th>outlook_r</th>\n",
       "      <th>outlook_v</th>\n",
       "      <th>outlook_x</th>\n",
       "    </tr>\n",
       "  </thead>\n",
       "  <tbody>\n",
       "    <tr>\n",
       "      <th>0</th>\n",
       "      <td>AFH-Wealth-Management</td>\n",
       "      <td>2015-04-05</td>\n",
       "      <td></td>\n",
       "      <td>Current Employee</td>\n",
       "      <td>NaN</td>\n",
       "      <td>2</td>\n",
       "      <td>4.0</td>\n",
       "      <td>3.0</td>\n",
       "      <td>NaN</td>\n",
       "      <td>2.0</td>\n",
       "      <td>...</td>\n",
       "      <td>1.0</td>\n",
       "      <td>0.0</td>\n",
       "      <td>0.0</td>\n",
       "      <td>0</td>\n",
       "      <td>0</td>\n",
       "      <td>1</td>\n",
       "      <td>0</td>\n",
       "      <td>1</td>\n",
       "      <td>0</td>\n",
       "      <td>0</td>\n",
       "    </tr>\n",
       "    <tr>\n",
       "      <th>1</th>\n",
       "      <td>AFH-Wealth-Management</td>\n",
       "      <td>2015-12-11</td>\n",
       "      <td>Office Administrator</td>\n",
       "      <td>Current Employee, more than 1 year</td>\n",
       "      <td>Bromsgrove, England, England</td>\n",
       "      <td>2</td>\n",
       "      <td>3.0</td>\n",
       "      <td>1.0</td>\n",
       "      <td>NaN</td>\n",
       "      <td>2.0</td>\n",
       "      <td>...</td>\n",
       "      <td>1.0</td>\n",
       "      <td>0.0</td>\n",
       "      <td>0.0</td>\n",
       "      <td>0</td>\n",
       "      <td>0</td>\n",
       "      <td>1</td>\n",
       "      <td>0</td>\n",
       "      <td>1</td>\n",
       "      <td>0</td>\n",
       "      <td>0</td>\n",
       "    </tr>\n",
       "    <tr>\n",
       "      <th>2</th>\n",
       "      <td>AFH-Wealth-Management</td>\n",
       "      <td>2016-01-28</td>\n",
       "      <td>Office Administrator</td>\n",
       "      <td>Current Employee, less than 1 year</td>\n",
       "      <td>Bromsgrove, England, England</td>\n",
       "      <td>1</td>\n",
       "      <td>1.0</td>\n",
       "      <td>1.0</td>\n",
       "      <td>NaN</td>\n",
       "      <td>1.0</td>\n",
       "      <td>...</td>\n",
       "      <td>0.0</td>\n",
       "      <td>0.0</td>\n",
       "      <td>1.0</td>\n",
       "      <td>0</td>\n",
       "      <td>0</td>\n",
       "      <td>1</td>\n",
       "      <td>0</td>\n",
       "      <td>0</td>\n",
       "      <td>0</td>\n",
       "      <td>1</td>\n",
       "    </tr>\n",
       "    <tr>\n",
       "      <th>3</th>\n",
       "      <td>AFH-Wealth-Management</td>\n",
       "      <td>2016-04-16</td>\n",
       "      <td></td>\n",
       "      <td>Current Employee</td>\n",
       "      <td>NaN</td>\n",
       "      <td>5</td>\n",
       "      <td>2.0</td>\n",
       "      <td>3.0</td>\n",
       "      <td>NaN</td>\n",
       "      <td>2.0</td>\n",
       "      <td>...</td>\n",
       "      <td>1.0</td>\n",
       "      <td>0.0</td>\n",
       "      <td>0.0</td>\n",
       "      <td>0</td>\n",
       "      <td>0</td>\n",
       "      <td>1</td>\n",
       "      <td>0</td>\n",
       "      <td>1</td>\n",
       "      <td>0</td>\n",
       "      <td>0</td>\n",
       "    </tr>\n",
       "    <tr>\n",
       "      <th>4</th>\n",
       "      <td>AFH-Wealth-Management</td>\n",
       "      <td>2016-04-23</td>\n",
       "      <td>Office Administrator</td>\n",
       "      <td>Current Employee, more than 1 year</td>\n",
       "      <td>Bromsgrove, England, England</td>\n",
       "      <td>1</td>\n",
       "      <td>2.0</td>\n",
       "      <td>1.0</td>\n",
       "      <td>NaN</td>\n",
       "      <td>2.0</td>\n",
       "      <td>...</td>\n",
       "      <td>0.0</td>\n",
       "      <td>0.0</td>\n",
       "      <td>1.0</td>\n",
       "      <td>0</td>\n",
       "      <td>0</td>\n",
       "      <td>1</td>\n",
       "      <td>0</td>\n",
       "      <td>0</td>\n",
       "      <td>0</td>\n",
       "      <td>1</td>\n",
       "    </tr>\n",
       "  </tbody>\n",
       "</table>\n",
       "<p>5 rows × 30 columns</p>\n",
       "</div>"
      ],
      "text/plain": [
       "                    firm date_review              job_title  \\\n",
       "0  AFH-Wealth-Management  2015-04-05                          \n",
       "1  AFH-Wealth-Management  2015-12-11   Office Administrator   \n",
       "2  AFH-Wealth-Management  2016-01-28   Office Administrator   \n",
       "3  AFH-Wealth-Management  2016-04-16                          \n",
       "4  AFH-Wealth-Management  2016-04-23   Office Administrator   \n",
       "\n",
       "                              current                      location  \\\n",
       "0                    Current Employee                           NaN   \n",
       "1  Current Employee, more than 1 year  Bromsgrove, England, England   \n",
       "2  Current Employee, less than 1 year  Bromsgrove, England, England   \n",
       "3                    Current Employee                           NaN   \n",
       "4  Current Employee, more than 1 year  Bromsgrove, England, England   \n",
       "\n",
       "   overall_rating  work_life_balance  culture_values  diversity_inclusion  \\\n",
       "0               2                4.0             3.0                  NaN   \n",
       "1               2                3.0             1.0                  NaN   \n",
       "2               1                1.0             1.0                  NaN   \n",
       "3               5                2.0             3.0                  NaN   \n",
       "4               1                2.0             1.0                  NaN   \n",
       "\n",
       "   career_opp  ...    x    v    o recommend_o recommend_v recommend_x  \\\n",
       "0         2.0  ...  1.0  0.0  0.0           0           0           1   \n",
       "1         2.0  ...  1.0  0.0  0.0           0           0           1   \n",
       "2         1.0  ...  0.0  0.0  1.0           0           0           1   \n",
       "3         2.0  ...  1.0  0.0  0.0           0           0           1   \n",
       "4         2.0  ...  0.0  0.0  1.0           0           0           1   \n",
       "\n",
       "   outlook_o  outlook_r  outlook_v  outlook_x  \n",
       "0          0          1          0          0  \n",
       "1          0          1          0          0  \n",
       "2          0          0          0          1  \n",
       "3          0          1          0          0  \n",
       "4          0          0          0          1  \n",
       "\n",
       "[5 rows x 30 columns]"
      ]
     },
     "execution_count": 73,
     "metadata": {},
     "output_type": "execute_result"
    }
   ],
   "source": [
    "cani2.drop(columns=['recommend', 'outlook'], inplace=True)\n",
    "cani2.head()"
   ]
  },
  {
   "cell_type": "code",
   "execution_count": null,
   "id": "9b148e4b-a55c-400f-92e0-6cd26d480ef3",
   "metadata": {},
   "outputs": [],
   "source": []
  }
 ],
 "metadata": {
  "kernelspec": {
   "display_name": "Python 3 (ipykernel)",
   "language": "python",
   "name": "python3"
  },
  "language_info": {
   "codemirror_mode": {
    "name": "ipython",
    "version": 3
   },
   "file_extension": ".py",
   "mimetype": "text/x-python",
   "name": "python",
   "nbconvert_exporter": "python",
   "pygments_lexer": "ipython3",
   "version": "3.10.7"
  }
 },
 "nbformat": 4,
 "nbformat_minor": 5
}
