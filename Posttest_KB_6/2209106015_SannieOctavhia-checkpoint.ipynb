{
 "cells": [
  {
   "cell_type": "markdown",
   "id": "a6fb25f5-748b-41b0-80f1-59e08a886f83",
   "metadata": {},
   "source": [
    "# Nama : Sannie Octavhia\n",
    "# NIM : 2209106015\n",
    "# Kelas : A1 Informatika 2023\n",
    "# Praktikum KB\n",
    "# LINK DATASET :\n",
    "https://www.kaggle.com/datasets/davidgauthier/glassdoor-job-reviews"
   ]
  },
  {
   "cell_type": "markdown",
   "id": "81fbdf13-3432-452b-9686-d14b50d717cc",
   "metadata": {},
   "source": [
    "### Siapkan library yang dibutuhkan untuk melatih model DNN"
   ]
  },
  {
   "cell_type": "code",
   "execution_count": 86,
   "id": "20817ecc-dd77-46e7-97d6-d886720f85a3",
   "metadata": {},
   "outputs": [],
   "source": [
    "import pandas as pd\n",
    "import tensorflow as tf\n",
    "from tensorflow.keras import Sequential, layers\n",
    "import numpy as np\n",
    "from sklearn.model_selection import train_test_split\n",
    "from sklearn.metrics import accuracy_score, r2_score\n",
    "import matplotlib.pyplot as plt\n",
    "from sklearn.preprocessing import StandardScaler\n",
    "from sklearn.preprocessing import LabelEncoder\n",
    "from sklearn.metrics import mean_absolute_error, mean_squared_error, r2_score\n",
    "from sklearn.linear_model import LinearRegression\n",
    "from sklearn.impute import SimpleImputer"
   ]
  },
  {
   "cell_type": "markdown",
   "id": "5abd976b-634a-427e-9bf2-90db4174bd8c",
   "metadata": {},
   "source": [
    "### Panggil datasetnya untuk melakukan permodelan"
   ]
  },
  {
   "cell_type": "code",
   "execution_count": 87,
   "id": "469500ee-a3ae-47cb-88e6-196def8d4994",
   "metadata": {},
   "outputs": [],
   "source": [
    "df = pd.read_csv(\"glassdoor_reviews.csv\")"
   ]
  },
  {
   "cell_type": "markdown",
   "id": "43a71521-2fd3-4242-b672-d69783281f0a",
   "metadata": {},
   "source": [
    "### Kita tampilkan data baris pertama dari data frame dengan menggunakan perintah dibawah ini"
   ]
  },
  {
   "cell_type": "code",
   "execution_count": 88,
   "id": "a4631787-98aa-4eef-9d2a-a6244eb658ea",
   "metadata": {},
   "outputs": [
    {
     "data": {
      "text/html": [
       "<div>\n",
       "<style scoped>\n",
       "    .dataframe tbody tr th:only-of-type {\n",
       "        vertical-align: middle;\n",
       "    }\n",
       "\n",
       "    .dataframe tbody tr th {\n",
       "        vertical-align: top;\n",
       "    }\n",
       "\n",
       "    .dataframe thead th {\n",
       "        text-align: right;\n",
       "    }\n",
       "</style>\n",
       "<table border=\"1\" class=\"dataframe\">\n",
       "  <thead>\n",
       "    <tr style=\"text-align: right;\">\n",
       "      <th></th>\n",
       "      <th>firm</th>\n",
       "      <th>date_review</th>\n",
       "      <th>job_title</th>\n",
       "      <th>current</th>\n",
       "      <th>location</th>\n",
       "      <th>overall_rating</th>\n",
       "      <th>work_life_balance</th>\n",
       "      <th>culture_values</th>\n",
       "      <th>diversity_inclusion</th>\n",
       "      <th>career_opp</th>\n",
       "      <th>comp_benefits</th>\n",
       "      <th>senior_mgmt</th>\n",
       "      <th>recommend</th>\n",
       "      <th>ceo_approv</th>\n",
       "      <th>outlook</th>\n",
       "      <th>headline</th>\n",
       "      <th>pros</th>\n",
       "      <th>cons</th>\n",
       "    </tr>\n",
       "  </thead>\n",
       "  <tbody>\n",
       "    <tr>\n",
       "      <th>0</th>\n",
       "      <td>AFH-Wealth-Management</td>\n",
       "      <td>2015-04-05</td>\n",
       "      <td></td>\n",
       "      <td>Current Employee</td>\n",
       "      <td>NaN</td>\n",
       "      <td>2</td>\n",
       "      <td>4.0</td>\n",
       "      <td>3.0</td>\n",
       "      <td>NaN</td>\n",
       "      <td>2.0</td>\n",
       "      <td>3.0</td>\n",
       "      <td>3.0</td>\n",
       "      <td>x</td>\n",
       "      <td>o</td>\n",
       "      <td>r</td>\n",
       "      <td>Young colleagues, poor micro management</td>\n",
       "      <td>Very friendly and welcoming to new staff. Easy...</td>\n",
       "      <td>Poor salaries, poor training and communication.</td>\n",
       "    </tr>\n",
       "    <tr>\n",
       "      <th>1</th>\n",
       "      <td>AFH-Wealth-Management</td>\n",
       "      <td>2015-12-11</td>\n",
       "      <td>Office Administrator</td>\n",
       "      <td>Current Employee, more than 1 year</td>\n",
       "      <td>Bromsgrove, England, England</td>\n",
       "      <td>2</td>\n",
       "      <td>3.0</td>\n",
       "      <td>1.0</td>\n",
       "      <td>NaN</td>\n",
       "      <td>2.0</td>\n",
       "      <td>1.0</td>\n",
       "      <td>4.0</td>\n",
       "      <td>x</td>\n",
       "      <td>o</td>\n",
       "      <td>r</td>\n",
       "      <td>Excellent staff, poor salary</td>\n",
       "      <td>Friendly, helpful and hard-working colleagues</td>\n",
       "      <td>Poor salary which doesn't improve much with pr...</td>\n",
       "    </tr>\n",
       "    <tr>\n",
       "      <th>2</th>\n",
       "      <td>AFH-Wealth-Management</td>\n",
       "      <td>2016-01-28</td>\n",
       "      <td>Office Administrator</td>\n",
       "      <td>Current Employee, less than 1 year</td>\n",
       "      <td>Bromsgrove, England, England</td>\n",
       "      <td>1</td>\n",
       "      <td>1.0</td>\n",
       "      <td>1.0</td>\n",
       "      <td>NaN</td>\n",
       "      <td>1.0</td>\n",
       "      <td>1.0</td>\n",
       "      <td>1.0</td>\n",
       "      <td>x</td>\n",
       "      <td>o</td>\n",
       "      <td>x</td>\n",
       "      <td>Low salary, bad micromanagement</td>\n",
       "      <td>Easy to get the job even without experience in...</td>\n",
       "      <td>Very low salary, poor working conditions, very...</td>\n",
       "    </tr>\n",
       "    <tr>\n",
       "      <th>3</th>\n",
       "      <td>AFH-Wealth-Management</td>\n",
       "      <td>2016-04-16</td>\n",
       "      <td></td>\n",
       "      <td>Current Employee</td>\n",
       "      <td>NaN</td>\n",
       "      <td>5</td>\n",
       "      <td>2.0</td>\n",
       "      <td>3.0</td>\n",
       "      <td>NaN</td>\n",
       "      <td>2.0</td>\n",
       "      <td>2.0</td>\n",
       "      <td>3.0</td>\n",
       "      <td>x</td>\n",
       "      <td>o</td>\n",
       "      <td>r</td>\n",
       "      <td>Over promised under delivered</td>\n",
       "      <td>Nice staff to work with</td>\n",
       "      <td>No career progression and salary is poor</td>\n",
       "    </tr>\n",
       "    <tr>\n",
       "      <th>4</th>\n",
       "      <td>AFH-Wealth-Management</td>\n",
       "      <td>2016-04-23</td>\n",
       "      <td>Office Administrator</td>\n",
       "      <td>Current Employee, more than 1 year</td>\n",
       "      <td>Bromsgrove, England, England</td>\n",
       "      <td>1</td>\n",
       "      <td>2.0</td>\n",
       "      <td>1.0</td>\n",
       "      <td>NaN</td>\n",
       "      <td>2.0</td>\n",
       "      <td>1.0</td>\n",
       "      <td>1.0</td>\n",
       "      <td>x</td>\n",
       "      <td>o</td>\n",
       "      <td>x</td>\n",
       "      <td>client reporting admin</td>\n",
       "      <td>Easy to get the job, Nice colleagues.</td>\n",
       "      <td>Abysmal pay, around minimum wage. No actual tr...</td>\n",
       "    </tr>\n",
       "  </tbody>\n",
       "</table>\n",
       "</div>"
      ],
      "text/plain": [
       "                    firm date_review              job_title  \\\n",
       "0  AFH-Wealth-Management  2015-04-05                          \n",
       "1  AFH-Wealth-Management  2015-12-11   Office Administrator   \n",
       "2  AFH-Wealth-Management  2016-01-28   Office Administrator   \n",
       "3  AFH-Wealth-Management  2016-04-16                          \n",
       "4  AFH-Wealth-Management  2016-04-23   Office Administrator   \n",
       "\n",
       "                              current                      location  \\\n",
       "0                    Current Employee                           NaN   \n",
       "1  Current Employee, more than 1 year  Bromsgrove, England, England   \n",
       "2  Current Employee, less than 1 year  Bromsgrove, England, England   \n",
       "3                    Current Employee                           NaN   \n",
       "4  Current Employee, more than 1 year  Bromsgrove, England, England   \n",
       "\n",
       "   overall_rating  work_life_balance  culture_values  diversity_inclusion  \\\n",
       "0               2                4.0             3.0                  NaN   \n",
       "1               2                3.0             1.0                  NaN   \n",
       "2               1                1.0             1.0                  NaN   \n",
       "3               5                2.0             3.0                  NaN   \n",
       "4               1                2.0             1.0                  NaN   \n",
       "\n",
       "   career_opp  comp_benefits  senior_mgmt recommend ceo_approv outlook  \\\n",
       "0         2.0            3.0          3.0         x          o       r   \n",
       "1         2.0            1.0          4.0         x          o       r   \n",
       "2         1.0            1.0          1.0         x          o       x   \n",
       "3         2.0            2.0          3.0         x          o       r   \n",
       "4         2.0            1.0          1.0         x          o       x   \n",
       "\n",
       "                                  headline  \\\n",
       "0  Young colleagues, poor micro management   \n",
       "1             Excellent staff, poor salary   \n",
       "2          Low salary, bad micromanagement   \n",
       "3            Over promised under delivered   \n",
       "4                   client reporting admin   \n",
       "\n",
       "                                                pros  \\\n",
       "0  Very friendly and welcoming to new staff. Easy...   \n",
       "1      Friendly, helpful and hard-working colleagues   \n",
       "2  Easy to get the job even without experience in...   \n",
       "3                            Nice staff to work with   \n",
       "4              Easy to get the job, Nice colleagues.   \n",
       "\n",
       "                                                cons  \n",
       "0    Poor salaries, poor training and communication.  \n",
       "1  Poor salary which doesn't improve much with pr...  \n",
       "2  Very low salary, poor working conditions, very...  \n",
       "3           No career progression and salary is poor  \n",
       "4  Abysmal pay, around minimum wage. No actual tr...  "
      ]
     },
     "execution_count": 88,
     "metadata": {},
     "output_type": "execute_result"
    }
   ],
   "source": [
    "df.head()"
   ]
  },
  {
   "cell_type": "markdown",
   "id": "3e61331f-6560-41f1-822e-1047ef05841f",
   "metadata": {},
   "source": [
    "### Kita pilih kolom tertentu yang ingin di hapus"
   ]
  },
  {
   "cell_type": "code",
   "execution_count": 89,
   "id": "fe9a50d8-2694-4d0f-83cb-f522d8b8509a",
   "metadata": {},
   "outputs": [],
   "source": [
    "df.drop(columns=['firm','date_review', 'job_title', 'current', 'location', 'recommend', 'ceo_approv', 'outlook', 'headline', 'pros', 'cons', 'diversity_inclusion'], inplace=True)\n"
   ]
  },
  {
   "cell_type": "markdown",
   "id": "ac59c57a-0843-4c8f-899d-f56107d4988c",
   "metadata": {},
   "source": [
    "### Kemudian kita tampilkan lagi data head nya setelah kita drop kolom yang sebelumnya"
   ]
  },
  {
   "cell_type": "code",
   "execution_count": 90,
   "id": "1ed6bc4f-00f2-4f1a-9d01-c45dfa3ea589",
   "metadata": {},
   "outputs": [
    {
     "data": {
      "text/html": [
       "<div>\n",
       "<style scoped>\n",
       "    .dataframe tbody tr th:only-of-type {\n",
       "        vertical-align: middle;\n",
       "    }\n",
       "\n",
       "    .dataframe tbody tr th {\n",
       "        vertical-align: top;\n",
       "    }\n",
       "\n",
       "    .dataframe thead th {\n",
       "        text-align: right;\n",
       "    }\n",
       "</style>\n",
       "<table border=\"1\" class=\"dataframe\">\n",
       "  <thead>\n",
       "    <tr style=\"text-align: right;\">\n",
       "      <th></th>\n",
       "      <th>overall_rating</th>\n",
       "      <th>work_life_balance</th>\n",
       "      <th>culture_values</th>\n",
       "      <th>career_opp</th>\n",
       "      <th>comp_benefits</th>\n",
       "      <th>senior_mgmt</th>\n",
       "    </tr>\n",
       "  </thead>\n",
       "  <tbody>\n",
       "    <tr>\n",
       "      <th>0</th>\n",
       "      <td>2</td>\n",
       "      <td>4.0</td>\n",
       "      <td>3.0</td>\n",
       "      <td>2.0</td>\n",
       "      <td>3.0</td>\n",
       "      <td>3.0</td>\n",
       "    </tr>\n",
       "    <tr>\n",
       "      <th>1</th>\n",
       "      <td>2</td>\n",
       "      <td>3.0</td>\n",
       "      <td>1.0</td>\n",
       "      <td>2.0</td>\n",
       "      <td>1.0</td>\n",
       "      <td>4.0</td>\n",
       "    </tr>\n",
       "    <tr>\n",
       "      <th>2</th>\n",
       "      <td>1</td>\n",
       "      <td>1.0</td>\n",
       "      <td>1.0</td>\n",
       "      <td>1.0</td>\n",
       "      <td>1.0</td>\n",
       "      <td>1.0</td>\n",
       "    </tr>\n",
       "    <tr>\n",
       "      <th>3</th>\n",
       "      <td>5</td>\n",
       "      <td>2.0</td>\n",
       "      <td>3.0</td>\n",
       "      <td>2.0</td>\n",
       "      <td>2.0</td>\n",
       "      <td>3.0</td>\n",
       "    </tr>\n",
       "    <tr>\n",
       "      <th>4</th>\n",
       "      <td>1</td>\n",
       "      <td>2.0</td>\n",
       "      <td>1.0</td>\n",
       "      <td>2.0</td>\n",
       "      <td>1.0</td>\n",
       "      <td>1.0</td>\n",
       "    </tr>\n",
       "  </tbody>\n",
       "</table>\n",
       "</div>"
      ],
      "text/plain": [
       "   overall_rating  work_life_balance  culture_values  career_opp  \\\n",
       "0               2                4.0             3.0         2.0   \n",
       "1               2                3.0             1.0         2.0   \n",
       "2               1                1.0             1.0         1.0   \n",
       "3               5                2.0             3.0         2.0   \n",
       "4               1                2.0             1.0         2.0   \n",
       "\n",
       "   comp_benefits  senior_mgmt  \n",
       "0            3.0          3.0  \n",
       "1            1.0          4.0  \n",
       "2            1.0          1.0  \n",
       "3            2.0          3.0  \n",
       "4            1.0          1.0  "
      ]
     },
     "execution_count": 90,
     "metadata": {},
     "output_type": "execute_result"
    }
   ],
   "source": [
    "df.head()"
   ]
  },
  {
   "cell_type": "markdown",
   "id": "021738f9-728d-4ae4-aae2-70f2bd498a73",
   "metadata": {},
   "source": [
    "### Kita print duplikat untuk melihat data duplikasi"
   ]
  },
  {
   "cell_type": "code",
   "execution_count": 91,
   "id": "d3b9cb2e-bba4-44b5-9944-85d89e65fdbf",
   "metadata": {},
   "outputs": [
    {
     "name": "stdout",
     "output_type": "stream",
     "text": [
      "Duplikat: \n"
     ]
    },
    {
     "data": {
      "text/plain": [
       "820129"
      ]
     },
     "execution_count": 91,
     "metadata": {},
     "output_type": "execute_result"
    }
   ],
   "source": [
    "print(\"Duplikat: \")\n",
    "df.duplicated().sum()"
   ]
  },
  {
   "cell_type": "markdown",
   "id": "827cb6ff-06b1-4443-81ae-ed0380e78d1e",
   "metadata": {},
   "source": [
    "### Setelah melihat adanya data yang duplikat maka kita perlu menghilangkan data yang duplikat agar tidak terjadinya kesalahan pada analisis data"
   ]
  },
  {
   "cell_type": "code",
   "execution_count": 92,
   "id": "acae20f6-9814-4e59-a3e0-7065c2586126",
   "metadata": {},
   "outputs": [
    {
     "name": "stdout",
     "output_type": "stream",
     "text": [
      "Duplikat: \n"
     ]
    },
    {
     "data": {
      "text/plain": [
       "0"
      ]
     },
     "execution_count": 92,
     "metadata": {},
     "output_type": "execute_result"
    }
   ],
   "source": [
    "df.drop_duplicates(inplace=True)\n",
    "print(\"Duplikat: \")\n",
    "df.duplicated().sum()"
   ]
  },
  {
   "cell_type": "markdown",
   "id": "0f264c28-6b35-475a-a0b1-b4a9bbb0a492",
   "metadata": {},
   "source": [
    "### Menampilkan jumlah nilai null pada data"
   ]
  },
  {
   "cell_type": "code",
   "execution_count": 93,
   "id": "42c81d7e-20e2-4240-bb69-e3d51217a7cd",
   "metadata": {},
   "outputs": [
    {
     "data": {
      "text/plain": [
       "overall_rating          0\n",
       "work_life_balance    1014\n",
       "culture_values       2885\n",
       "career_opp           1428\n",
       "comp_benefits        1170\n",
       "senior_mgmt          2238\n",
       "dtype: int64"
      ]
     },
     "execution_count": 93,
     "metadata": {},
     "output_type": "execute_result"
    }
   ],
   "source": [
    "df.isnull().sum()"
   ]
  },
  {
   "cell_type": "markdown",
   "id": "19c42dee-86f4-4a57-bf87-388fe490ab87",
   "metadata": {},
   "source": [
    "### Perintah untuk mengisi data yang umum digunakan untuk mengatasi nilai yang hilang"
   ]
  },
  {
   "cell_type": "code",
   "execution_count": 94,
   "id": "e72d9082-11c1-44fa-a3b3-243bcb999388",
   "metadata": {},
   "outputs": [
    {
     "data": {
      "text/html": [
       "<div>\n",
       "<style scoped>\n",
       "    .dataframe tbody tr th:only-of-type {\n",
       "        vertical-align: middle;\n",
       "    }\n",
       "\n",
       "    .dataframe tbody tr th {\n",
       "        vertical-align: top;\n",
       "    }\n",
       "\n",
       "    .dataframe thead th {\n",
       "        text-align: right;\n",
       "    }\n",
       "</style>\n",
       "<table border=\"1\" class=\"dataframe\">\n",
       "  <thead>\n",
       "    <tr style=\"text-align: right;\">\n",
       "      <th></th>\n",
       "      <th>work_life_balance</th>\n",
       "      <th>work_life_balance</th>\n",
       "      <th>career_opp</th>\n",
       "      <th>comp_benefits</th>\n",
       "      <th>comp_benefits</th>\n",
       "    </tr>\n",
       "  </thead>\n",
       "  <tbody>\n",
       "    <tr>\n",
       "      <th>0</th>\n",
       "      <td>4.0</td>\n",
       "      <td>4.0</td>\n",
       "      <td>2.0</td>\n",
       "      <td>3.0</td>\n",
       "      <td>3.0</td>\n",
       "    </tr>\n",
       "    <tr>\n",
       "      <th>1</th>\n",
       "      <td>3.0</td>\n",
       "      <td>3.0</td>\n",
       "      <td>2.0</td>\n",
       "      <td>1.0</td>\n",
       "      <td>1.0</td>\n",
       "    </tr>\n",
       "    <tr>\n",
       "      <th>2</th>\n",
       "      <td>1.0</td>\n",
       "      <td>1.0</td>\n",
       "      <td>1.0</td>\n",
       "      <td>1.0</td>\n",
       "      <td>1.0</td>\n",
       "    </tr>\n",
       "    <tr>\n",
       "      <th>3</th>\n",
       "      <td>2.0</td>\n",
       "      <td>2.0</td>\n",
       "      <td>2.0</td>\n",
       "      <td>2.0</td>\n",
       "      <td>2.0</td>\n",
       "    </tr>\n",
       "    <tr>\n",
       "      <th>4</th>\n",
       "      <td>2.0</td>\n",
       "      <td>2.0</td>\n",
       "      <td>2.0</td>\n",
       "      <td>1.0</td>\n",
       "      <td>1.0</td>\n",
       "    </tr>\n",
       "    <tr>\n",
       "      <th>...</th>\n",
       "      <td>...</td>\n",
       "      <td>...</td>\n",
       "      <td>...</td>\n",
       "      <td>...</td>\n",
       "      <td>...</td>\n",
       "    </tr>\n",
       "    <tr>\n",
       "      <th>837841</th>\n",
       "      <td>4.0</td>\n",
       "      <td>4.0</td>\n",
       "      <td>1.0</td>\n",
       "      <td>NaN</td>\n",
       "      <td>NaN</td>\n",
       "    </tr>\n",
       "    <tr>\n",
       "      <th>838003</th>\n",
       "      <td>5.0</td>\n",
       "      <td>5.0</td>\n",
       "      <td>NaN</td>\n",
       "      <td>NaN</td>\n",
       "      <td>NaN</td>\n",
       "    </tr>\n",
       "    <tr>\n",
       "      <th>838068</th>\n",
       "      <td>1.0</td>\n",
       "      <td>1.0</td>\n",
       "      <td>1.0</td>\n",
       "      <td>4.0</td>\n",
       "      <td>4.0</td>\n",
       "    </tr>\n",
       "    <tr>\n",
       "      <th>838091</th>\n",
       "      <td>4.0</td>\n",
       "      <td>4.0</td>\n",
       "      <td>3.0</td>\n",
       "      <td>5.0</td>\n",
       "      <td>5.0</td>\n",
       "    </tr>\n",
       "    <tr>\n",
       "      <th>838528</th>\n",
       "      <td>5.0</td>\n",
       "      <td>5.0</td>\n",
       "      <td>1.0</td>\n",
       "      <td>4.0</td>\n",
       "      <td>4.0</td>\n",
       "    </tr>\n",
       "  </tbody>\n",
       "</table>\n",
       "<p>18437 rows × 5 columns</p>\n",
       "</div>"
      ],
      "text/plain": [
       "        work_life_balance  work_life_balance  career_opp  comp_benefits  \\\n",
       "0                     4.0                4.0         2.0            3.0   \n",
       "1                     3.0                3.0         2.0            1.0   \n",
       "2                     1.0                1.0         1.0            1.0   \n",
       "3                     2.0                2.0         2.0            2.0   \n",
       "4                     2.0                2.0         2.0            1.0   \n",
       "...                   ...                ...         ...            ...   \n",
       "837841                4.0                4.0         1.0            NaN   \n",
       "838003                5.0                5.0         NaN            NaN   \n",
       "838068                1.0                1.0         1.0            4.0   \n",
       "838091                4.0                4.0         3.0            5.0   \n",
       "838528                5.0                5.0         1.0            4.0   \n",
       "\n",
       "        comp_benefits  \n",
       "0                 3.0  \n",
       "1                 1.0  \n",
       "2                 1.0  \n",
       "3                 2.0  \n",
       "4                 1.0  \n",
       "...               ...  \n",
       "837841            NaN  \n",
       "838003            NaN  \n",
       "838068            4.0  \n",
       "838091            5.0  \n",
       "838528            4.0  \n",
       "\n",
       "[18437 rows x 5 columns]"
      ]
     },
     "execution_count": 94,
     "metadata": {},
     "output_type": "execute_result"
    }
   ],
   "source": [
    "df_modus = SimpleImputer(strategy='most_frequent')\n",
    "df[['work_life_balance', 'work_life_balance', 'career_opp','comp_benefits', 'comp_benefits']]"
   ]
  },
  {
   "cell_type": "markdown",
   "id": "011c1c5c-fb61-4004-883b-e9c62d7387f3",
   "metadata": {},
   "source": [
    "### Disini kita mengubah variabel kategorikal menjadi bentuk biner"
   ]
  },
  {
   "cell_type": "code",
   "execution_count": 96,
   "id": "af135204-6709-4f49-9b23-427d8b8691cf",
   "metadata": {},
   "outputs": [
    {
     "data": {
      "text/html": [
       "<div>\n",
       "<style scoped>\n",
       "    .dataframe tbody tr th:only-of-type {\n",
       "        vertical-align: middle;\n",
       "    }\n",
       "\n",
       "    .dataframe tbody tr th {\n",
       "        vertical-align: top;\n",
       "    }\n",
       "\n",
       "    .dataframe thead th {\n",
       "        text-align: right;\n",
       "    }\n",
       "</style>\n",
       "<table border=\"1\" class=\"dataframe\">\n",
       "  <thead>\n",
       "    <tr style=\"text-align: right;\">\n",
       "      <th></th>\n",
       "      <th>overall_rating_1</th>\n",
       "      <th>overall_rating_2</th>\n",
       "      <th>overall_rating_3</th>\n",
       "      <th>overall_rating_4</th>\n",
       "      <th>overall_rating_5</th>\n",
       "      <th>work_life_balance_1.0</th>\n",
       "      <th>work_life_balance_2.0</th>\n",
       "      <th>work_life_balance_3.0</th>\n",
       "      <th>work_life_balance_4.0</th>\n",
       "      <th>work_life_balance_5.0</th>\n",
       "      <th>work_life_balance_nan</th>\n",
       "    </tr>\n",
       "  </thead>\n",
       "  <tbody>\n",
       "    <tr>\n",
       "      <th>0</th>\n",
       "      <td>0.0</td>\n",
       "      <td>1.0</td>\n",
       "      <td>0.0</td>\n",
       "      <td>0.0</td>\n",
       "      <td>0.0</td>\n",
       "      <td>0.0</td>\n",
       "      <td>0.0</td>\n",
       "      <td>0.0</td>\n",
       "      <td>1.0</td>\n",
       "      <td>0.0</td>\n",
       "      <td>0.0</td>\n",
       "    </tr>\n",
       "    <tr>\n",
       "      <th>1</th>\n",
       "      <td>0.0</td>\n",
       "      <td>1.0</td>\n",
       "      <td>0.0</td>\n",
       "      <td>0.0</td>\n",
       "      <td>0.0</td>\n",
       "      <td>0.0</td>\n",
       "      <td>0.0</td>\n",
       "      <td>1.0</td>\n",
       "      <td>0.0</td>\n",
       "      <td>0.0</td>\n",
       "      <td>0.0</td>\n",
       "    </tr>\n",
       "    <tr>\n",
       "      <th>2</th>\n",
       "      <td>1.0</td>\n",
       "      <td>0.0</td>\n",
       "      <td>0.0</td>\n",
       "      <td>0.0</td>\n",
       "      <td>0.0</td>\n",
       "      <td>1.0</td>\n",
       "      <td>0.0</td>\n",
       "      <td>0.0</td>\n",
       "      <td>0.0</td>\n",
       "      <td>0.0</td>\n",
       "      <td>0.0</td>\n",
       "    </tr>\n",
       "    <tr>\n",
       "      <th>3</th>\n",
       "      <td>0.0</td>\n",
       "      <td>0.0</td>\n",
       "      <td>0.0</td>\n",
       "      <td>0.0</td>\n",
       "      <td>1.0</td>\n",
       "      <td>0.0</td>\n",
       "      <td>1.0</td>\n",
       "      <td>0.0</td>\n",
       "      <td>0.0</td>\n",
       "      <td>0.0</td>\n",
       "      <td>0.0</td>\n",
       "    </tr>\n",
       "    <tr>\n",
       "      <th>4</th>\n",
       "      <td>1.0</td>\n",
       "      <td>0.0</td>\n",
       "      <td>0.0</td>\n",
       "      <td>0.0</td>\n",
       "      <td>0.0</td>\n",
       "      <td>0.0</td>\n",
       "      <td>1.0</td>\n",
       "      <td>0.0</td>\n",
       "      <td>0.0</td>\n",
       "      <td>0.0</td>\n",
       "      <td>0.0</td>\n",
       "    </tr>\n",
       "  </tbody>\n",
       "</table>\n",
       "</div>"
      ],
      "text/plain": [
       "   overall_rating_1  overall_rating_2  overall_rating_3  overall_rating_4  \\\n",
       "0               0.0               1.0               0.0               0.0   \n",
       "1               0.0               1.0               0.0               0.0   \n",
       "2               1.0               0.0               0.0               0.0   \n",
       "3               0.0               0.0               0.0               0.0   \n",
       "4               1.0               0.0               0.0               0.0   \n",
       "\n",
       "   overall_rating_5  work_life_balance_1.0  work_life_balance_2.0  \\\n",
       "0               0.0                    0.0                    0.0   \n",
       "1               0.0                    0.0                    0.0   \n",
       "2               0.0                    1.0                    0.0   \n",
       "3               1.0                    0.0                    1.0   \n",
       "4               0.0                    0.0                    1.0   \n",
       "\n",
       "   work_life_balance_3.0  work_life_balance_4.0  work_life_balance_5.0  \\\n",
       "0                    0.0                    1.0                    0.0   \n",
       "1                    1.0                    0.0                    0.0   \n",
       "2                    0.0                    0.0                    0.0   \n",
       "3                    0.0                    0.0                    0.0   \n",
       "4                    0.0                    0.0                    0.0   \n",
       "\n",
       "   work_life_balance_nan  \n",
       "0                    0.0  \n",
       "1                    0.0  \n",
       "2                    0.0  \n",
       "3                    0.0  \n",
       "4                    0.0  "
      ]
     },
     "execution_count": 96,
     "metadata": {},
     "output_type": "execute_result"
    }
   ],
   "source": [
    "from sklearn.preprocessing import OneHotEncoder\n",
    "encoder = OneHotEncoder(sparse_output=False)\n",
    "\n",
    "categorical_cols = [\"overall_rating\", \"work_life_balance\"]\n",
    "df_categorical = encoder.fit_transform(df[categorical_cols])\n",
    "categorical_names = encoder.get_feature_names_out(categorical_cols)\n",
    "df_categorical = pd.DataFrame(df_categorical, columns=categorical_names)\n",
    "\n",
    "df_categorical.head()"
   ]
  },
  {
   "cell_type": "markdown",
   "id": "e907f745-7084-439b-9114-e1aa56859517",
   "metadata": {},
   "source": [
    "### Kemudian kita menggabungkan data menggunakan perintah concat"
   ]
  },
  {
   "cell_type": "code",
   "execution_count": 97,
   "id": "5049ec4a-6c5b-4888-92a1-641dc088f783",
   "metadata": {},
   "outputs": [
    {
     "data": {
      "text/html": [
       "<div>\n",
       "<style scoped>\n",
       "    .dataframe tbody tr th:only-of-type {\n",
       "        vertical-align: middle;\n",
       "    }\n",
       "\n",
       "    .dataframe tbody tr th {\n",
       "        vertical-align: top;\n",
       "    }\n",
       "\n",
       "    .dataframe thead th {\n",
       "        text-align: right;\n",
       "    }\n",
       "</style>\n",
       "<table border=\"1\" class=\"dataframe\">\n",
       "  <thead>\n",
       "    <tr style=\"text-align: right;\">\n",
       "      <th></th>\n",
       "      <th>overall_rating</th>\n",
       "      <th>work_life_balance</th>\n",
       "      <th>culture_values</th>\n",
       "      <th>career_opp</th>\n",
       "      <th>comp_benefits</th>\n",
       "      <th>senior_mgmt</th>\n",
       "      <th>overall_rating_1</th>\n",
       "      <th>overall_rating_2</th>\n",
       "      <th>overall_rating_3</th>\n",
       "      <th>overall_rating_4</th>\n",
       "      <th>overall_rating_5</th>\n",
       "      <th>work_life_balance_1.0</th>\n",
       "      <th>work_life_balance_2.0</th>\n",
       "      <th>work_life_balance_3.0</th>\n",
       "      <th>work_life_balance_4.0</th>\n",
       "      <th>work_life_balance_5.0</th>\n",
       "      <th>work_life_balance_nan</th>\n",
       "    </tr>\n",
       "  </thead>\n",
       "  <tbody>\n",
       "    <tr>\n",
       "      <th>0</th>\n",
       "      <td>2.0</td>\n",
       "      <td>4.0</td>\n",
       "      <td>3.0</td>\n",
       "      <td>2.0</td>\n",
       "      <td>3.0</td>\n",
       "      <td>3.0</td>\n",
       "      <td>0.0</td>\n",
       "      <td>1.0</td>\n",
       "      <td>0.0</td>\n",
       "      <td>0.0</td>\n",
       "      <td>0.0</td>\n",
       "      <td>0.0</td>\n",
       "      <td>0.0</td>\n",
       "      <td>0.0</td>\n",
       "      <td>1.0</td>\n",
       "      <td>0.0</td>\n",
       "      <td>0.0</td>\n",
       "    </tr>\n",
       "    <tr>\n",
       "      <th>1</th>\n",
       "      <td>2.0</td>\n",
       "      <td>3.0</td>\n",
       "      <td>1.0</td>\n",
       "      <td>2.0</td>\n",
       "      <td>1.0</td>\n",
       "      <td>4.0</td>\n",
       "      <td>0.0</td>\n",
       "      <td>1.0</td>\n",
       "      <td>0.0</td>\n",
       "      <td>0.0</td>\n",
       "      <td>0.0</td>\n",
       "      <td>0.0</td>\n",
       "      <td>0.0</td>\n",
       "      <td>1.0</td>\n",
       "      <td>0.0</td>\n",
       "      <td>0.0</td>\n",
       "      <td>0.0</td>\n",
       "    </tr>\n",
       "    <tr>\n",
       "      <th>2</th>\n",
       "      <td>1.0</td>\n",
       "      <td>1.0</td>\n",
       "      <td>1.0</td>\n",
       "      <td>1.0</td>\n",
       "      <td>1.0</td>\n",
       "      <td>1.0</td>\n",
       "      <td>1.0</td>\n",
       "      <td>0.0</td>\n",
       "      <td>0.0</td>\n",
       "      <td>0.0</td>\n",
       "      <td>0.0</td>\n",
       "      <td>1.0</td>\n",
       "      <td>0.0</td>\n",
       "      <td>0.0</td>\n",
       "      <td>0.0</td>\n",
       "      <td>0.0</td>\n",
       "      <td>0.0</td>\n",
       "    </tr>\n",
       "    <tr>\n",
       "      <th>3</th>\n",
       "      <td>5.0</td>\n",
       "      <td>2.0</td>\n",
       "      <td>3.0</td>\n",
       "      <td>2.0</td>\n",
       "      <td>2.0</td>\n",
       "      <td>3.0</td>\n",
       "      <td>0.0</td>\n",
       "      <td>0.0</td>\n",
       "      <td>0.0</td>\n",
       "      <td>0.0</td>\n",
       "      <td>1.0</td>\n",
       "      <td>0.0</td>\n",
       "      <td>1.0</td>\n",
       "      <td>0.0</td>\n",
       "      <td>0.0</td>\n",
       "      <td>0.0</td>\n",
       "      <td>0.0</td>\n",
       "    </tr>\n",
       "    <tr>\n",
       "      <th>4</th>\n",
       "      <td>1.0</td>\n",
       "      <td>2.0</td>\n",
       "      <td>1.0</td>\n",
       "      <td>2.0</td>\n",
       "      <td>1.0</td>\n",
       "      <td>1.0</td>\n",
       "      <td>1.0</td>\n",
       "      <td>0.0</td>\n",
       "      <td>0.0</td>\n",
       "      <td>0.0</td>\n",
       "      <td>0.0</td>\n",
       "      <td>0.0</td>\n",
       "      <td>1.0</td>\n",
       "      <td>0.0</td>\n",
       "      <td>0.0</td>\n",
       "      <td>0.0</td>\n",
       "      <td>0.0</td>\n",
       "    </tr>\n",
       "  </tbody>\n",
       "</table>\n",
       "</div>"
      ],
      "text/plain": [
       "   overall_rating  work_life_balance  culture_values  career_opp  \\\n",
       "0             2.0                4.0             3.0         2.0   \n",
       "1             2.0                3.0             1.0         2.0   \n",
       "2             1.0                1.0             1.0         1.0   \n",
       "3             5.0                2.0             3.0         2.0   \n",
       "4             1.0                2.0             1.0         2.0   \n",
       "\n",
       "   comp_benefits  senior_mgmt  overall_rating_1  overall_rating_2  \\\n",
       "0            3.0          3.0               0.0               1.0   \n",
       "1            1.0          4.0               0.0               1.0   \n",
       "2            1.0          1.0               1.0               0.0   \n",
       "3            2.0          3.0               0.0               0.0   \n",
       "4            1.0          1.0               1.0               0.0   \n",
       "\n",
       "   overall_rating_3  overall_rating_4  overall_rating_5  \\\n",
       "0               0.0               0.0               0.0   \n",
       "1               0.0               0.0               0.0   \n",
       "2               0.0               0.0               0.0   \n",
       "3               0.0               0.0               1.0   \n",
       "4               0.0               0.0               0.0   \n",
       "\n",
       "   work_life_balance_1.0  work_life_balance_2.0  work_life_balance_3.0  \\\n",
       "0                    0.0                    0.0                    0.0   \n",
       "1                    0.0                    0.0                    1.0   \n",
       "2                    1.0                    0.0                    0.0   \n",
       "3                    0.0                    1.0                    0.0   \n",
       "4                    0.0                    1.0                    0.0   \n",
       "\n",
       "   work_life_balance_4.0  work_life_balance_5.0  work_life_balance_nan  \n",
       "0                    1.0                    0.0                    0.0  \n",
       "1                    0.0                    0.0                    0.0  \n",
       "2                    0.0                    0.0                    0.0  \n",
       "3                    0.0                    0.0                    0.0  \n",
       "4                    0.0                    0.0                    0.0  "
      ]
     },
     "execution_count": 97,
     "metadata": {},
     "output_type": "execute_result"
    }
   ],
   "source": [
    "df = pd.concat([df, df_categorical], axis=1)\n",
    "df.head()"
   ]
  },
  {
   "cell_type": "markdown",
   "id": "1597ede5-ff3e-4dea-a83d-4062239f13da",
   "metadata": {},
   "source": [
    "### Lalu kita drop lagi kolom yang ada pada dataset dan menentukan X dan y nya"
   ]
  },
  {
   "cell_type": "code",
   "execution_count": 108,
   "id": "ece59af9-1c21-4aaa-9a8c-de3120cfb31a",
   "metadata": {},
   "outputs": [],
   "source": [
    "X = df.drop('overall_rating_1', axis=1)  \n",
    "y = df['overall_rating_1']  \n",
    "X_train, X_test, y_train, y_test = train_test_split(X, y, test_size=0.2, random_state=42)"
   ]
  },
  {
   "cell_type": "markdown",
   "id": "20594955-5dc1-4770-b0dc-61db392203ce",
   "metadata": {},
   "source": [
    "### Kita menggunakan model LinearRegression sesuai dengan dataset kita"
   ]
  },
  {
   "cell_type": "code",
   "execution_count": 110,
   "id": "7d83a79b-863a-43b5-9088-0ce18a6b916c",
   "metadata": {},
   "outputs": [],
   "source": [
    "model = LinearRegression()"
   ]
  },
  {
   "cell_type": "markdown",
   "id": "0c92f1a8-714f-49f7-937a-029d4295d1cb",
   "metadata": {},
   "source": [
    "### Disini menggunakan StandardScaler agar membantu algoritma untuk melakukan konversi lebih cepat"
   ]
  },
  {
   "cell_type": "code",
   "execution_count": 111,
   "id": "e08067fd-7c00-42d6-895e-f82f9925137b",
   "metadata": {},
   "outputs": [],
   "source": [
    "scaler = StandardScaler()\n",
    "X_train = scaler.fit_transform(X_train)\n",
    "X_test = scaler.transform(X_test)"
   ]
  },
  {
   "cell_type": "markdown",
   "id": "78380ebf-943a-487c-b798-b3d22bf4b6b7",
   "metadata": {},
   "source": [
    "### Kita juga menggunakan model Sequential yang dimana model ini merupakan perintah dalam Keras untuk pembuatan model jaringan saraf tiruan(neural network) yang artinya lapisan-lapisan akan ditambahkan satu per satu secara berurutan"
   ]
  },
  {
   "cell_type": "code",
   "execution_count": 112,
   "id": "b8040c53-b00e-46ff-9d47-7ac387414324",
   "metadata": {},
   "outputs": [],
   "source": [
    "model = Sequential()"
   ]
  },
  {
   "cell_type": "code",
   "execution_count": 113,
   "id": "572bfcca-639b-4e6d-a927-49cf3351a254",
   "metadata": {},
   "outputs": [],
   "source": [
    "model.add(layers.Dense(8, activation='relu', input_dim=X_train.shape[1]))\n",
    "model.add(layers.Dense(16, activation='relu'))\n",
    "model.add(layers.Dense(1, activation='sigmoid'))"
   ]
  },
  {
   "cell_type": "markdown",
   "id": "ffb2f3ed-3e7e-43fb-a6d5-aac83ed6000b",
   "metadata": {},
   "source": [
    "### Kita siapkan model jaringan saraf tiruan sebelum melatih model dalam mengompilasi model tersebut"
   ]
  },
  {
   "cell_type": "code",
   "execution_count": 114,
   "id": "d5c158dc-b99d-4a3b-ba98-6fb5c775c7c4",
   "metadata": {},
   "outputs": [],
   "source": [
    "model.compile(optimizer='adam', \n",
    "              loss = 'mse',\n",
    "             metrics = ['accuracy'])"
   ]
  },
  {
   "cell_type": "markdown",
   "id": "cb39fd9b-6499-4f0c-93f1-92a327498b99",
   "metadata": {},
   "source": [
    "### Kita menggunakan objek 'history' untuk membuat plot grafik yang memvisualisasikan kinerja model selama pelatihan"
   ]
  },
  {
   "cell_type": "code",
   "execution_count": 115,
   "id": "221dc30d-9d0b-4a88-aff8-78fbcfce1bfd",
   "metadata": {},
   "outputs": [
    {
     "name": "stdout",
     "output_type": "stream",
     "text": [
      "Epoch 1/5\n",
      "1635/1635 [==============================] - 36s 19ms/step - loss: nan - accuracy: 0.4924 - val_loss: nan - val_accuracy: 0.4860\n",
      "Epoch 2/5\n",
      "1635/1635 [==============================] - 25s 15ms/step - loss: nan - accuracy: 0.4924 - val_loss: nan - val_accuracy: 0.4860\n",
      "Epoch 3/5\n",
      "1635/1635 [==============================] - 27s 17ms/step - loss: nan - accuracy: 0.4924 - val_loss: nan - val_accuracy: 0.4860\n",
      "Epoch 4/5\n",
      "1635/1635 [==============================] - 23s 14ms/step - loss: nan - accuracy: 0.4924 - val_loss: nan - val_accuracy: 0.4860\n",
      "Epoch 5/5\n",
      "1635/1635 [==============================] - 26s 16ms/step - loss: nan - accuracy: 0.4924 - val_loss: nan - val_accuracy: 0.4860\n"
     ]
    }
   ],
   "source": [
    "history = model.fit(X_train, y_train, epochs=5, batch_size=16, validation_data=(X_test, y_test))"
   ]
  },
  {
   "cell_type": "markdown",
   "id": "f6ac03cb-037c-4fb3-8c67-885e53d50027",
   "metadata": {},
   "source": [
    "### Pada bagian ini kita mengatur grafik pada model perlatihan dengan menentukan title dan labelnya juga"
   ]
  },
  {
   "cell_type": "code",
   "execution_count": 118,
   "id": "6f10fb6d-a833-4ae7-9364-d6047bf599f2",
   "metadata": {},
   "outputs": [
    {
     "data": {
      "image/png": "[encoded data removed]",
      "text/plain": [
       "<Figure size 1200x400 with 1 Axes>"
      ]
     },
     "metadata": {},
     "output_type": "display_data"
    }
   ],
   "source": [
    "plt.figure(figsize=(12, 4))\n",
    "plt.subplot(1, 2, 1)\n",
    "plt.plot(history.history['accuracy'], label='Training Accuracy')\n",
    "plt.plot(history.history['val_accuracy'], label='Validation Accuracy')\n",
    "plt.legend(loc='lower right')\n",
    "plt.title('Training and Validation Accuracy')\n",
    "plt.xlabel('Epochs')\n",
    "plt.ylabel('Accuracy')\n",
    "\n",
    "plt.show()"
   ]
  },
  {
   "cell_type": "code",
   "execution_count": null,
   "id": "32e789ce-b136-45e8-bea8-50916bff94ff",
   "metadata": {},
   "outputs": [],
   "source": []
  },
  {
   "cell_type": "code",
   "execution_count": null,
   "id": "e377cb68-ce46-43dc-a87a-12b8087ed161",
   "metadata": {},
   "outputs": [],
   "source": []
  }
 ],
 "metadata": {
  "kernelspec": {
   "display_name": "Python 3 (ipykernel)",
   "language": "python",
   "name": "python3"
  },
  "language_info": {
   "codemirror_mode": {
    "name": "ipython",
    "version": 3
   },
   "file_extension": ".py",
   "mimetype": "text/x-python",
   "name": "python",
   "nbconvert_exporter": "python",
   "pygments_lexer": "ipython3",
   "version": "3.10.7"
  }
 },
 "nbformat": 4,
 "nbformat_minor": 5
}
